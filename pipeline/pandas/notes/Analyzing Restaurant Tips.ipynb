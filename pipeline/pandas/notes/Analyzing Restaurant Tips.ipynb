{
 "cells": [
  {
   "cell_type": "markdown",
   "id": "53c83d7c-3f6a-4e83-83aa-69ea2197ee35",
   "metadata": {},
   "source": [
    "## Sample Project: Analyzing Restaurant Tips \n",
    "\n",
    "### **Introduction**  \n",
    "The restaurant industry often analyzes tipping behavior to optimize customer service and revenue. In this project, we will use the [**tips dataset**](https://github.com/mwaskom/seaborn-data/blob/master/tips.csv) to explore the relationship between various factors, such as meal time, day of the week, and customer demographics, and their impact on tipping behavior.  \n",
    "\n",
    "### **Objectives**  \n",
    "1. Understand the distribution of tips and total bills.  \n",
    "2. Analyze tipping behavior by demographic factors like gender and group size.  \n",
    "3. Examine how tipping varies across different days and meal times.  \n",
    "4. Identify patterns or insights that can inform restaurant management strategies.  \n",
    "\n",
    "---"
   ]
  },
  {
   "cell_type": "markdown",
   "id": "3eaf1599-e2d1-4416-a91f-130868b4a94d",
   "metadata": {},
   "source": [
    "### 1. Loading and Understanding the Dataset\n",
    "\n",
    "#### 1.1 Load the Dataset\n",
    "First, we load the `tips` dataset using seaborn and perform an initial exploration to understand its structure and features.  \n",
    "\n",
    "The dataset contains the following columns:  \n",
    "- **total_bill**: Total bill in USD.  \n",
    "- **tip**: Tip amount in USD.  \n",
    "- **sex**: Gender of the bill payer.  \n",
    "- **smoker**: Indicates if the group included smokers.  \n",
    "- **day**: Day of the week.  \n",
    "- **time**: Meal type (Lunch/Dinner).  \n",
    "- **size**: Number of people in the dining group.  \n"
   ]
  },
  {
   "cell_type": "code",
   "execution_count": 14,
   "id": "554e0a16-bbc0-4574-a77e-2b0e27a4c7a9",
   "metadata": {},
   "outputs": [
    {
     "data": {
      "text/html": [
       "<div>\n",
       "<style scoped>\n",
       "    .dataframe tbody tr th:only-of-type {\n",
       "        vertical-align: middle;\n",
       "    }\n",
       "\n",
       "    .dataframe tbody tr th {\n",
       "        vertical-align: top;\n",
       "    }\n",
       "\n",
       "    .dataframe thead th {\n",
       "        text-align: right;\n",
       "    }\n",
       "</style>\n",
       "<table border=\"1\" class=\"dataframe\">\n",
       "  <thead>\n",
       "    <tr style=\"text-align: right;\">\n",
       "      <th></th>\n",
       "      <th>total_bill</th>\n",
       "      <th>tip</th>\n",
       "      <th>size</th>\n",
       "    </tr>\n",
       "  </thead>\n",
       "  <tbody>\n",
       "    <tr>\n",
       "      <th>count</th>\n",
       "      <td>244.000000</td>\n",
       "      <td>244.000000</td>\n",
       "      <td>244.000000</td>\n",
       "    </tr>\n",
       "    <tr>\n",
       "      <th>mean</th>\n",
       "      <td>19.785943</td>\n",
       "      <td>2.998279</td>\n",
       "      <td>2.569672</td>\n",
       "    </tr>\n",
       "    <tr>\n",
       "      <th>std</th>\n",
       "      <td>8.902412</td>\n",
       "      <td>1.383638</td>\n",
       "      <td>0.951100</td>\n",
       "    </tr>\n",
       "    <tr>\n",
       "      <th>min</th>\n",
       "      <td>3.070000</td>\n",
       "      <td>1.000000</td>\n",
       "      <td>1.000000</td>\n",
       "    </tr>\n",
       "    <tr>\n",
       "      <th>25%</th>\n",
       "      <td>13.347500</td>\n",
       "      <td>2.000000</td>\n",
       "      <td>2.000000</td>\n",
       "    </tr>\n",
       "    <tr>\n",
       "      <th>50%</th>\n",
       "      <td>17.795000</td>\n",
       "      <td>2.900000</td>\n",
       "      <td>2.000000</td>\n",
       "    </tr>\n",
       "    <tr>\n",
       "      <th>75%</th>\n",
       "      <td>24.127500</td>\n",
       "      <td>3.562500</td>\n",
       "      <td>3.000000</td>\n",
       "    </tr>\n",
       "    <tr>\n",
       "      <th>max</th>\n",
       "      <td>50.810000</td>\n",
       "      <td>10.000000</td>\n",
       "      <td>6.000000</td>\n",
       "    </tr>\n",
       "  </tbody>\n",
       "</table>\n",
       "</div>"
      ],
      "text/plain": [
       "       total_bill         tip        size\n",
       "count  244.000000  244.000000  244.000000\n",
       "mean    19.785943    2.998279    2.569672\n",
       "std      8.902412    1.383638    0.951100\n",
       "min      3.070000    1.000000    1.000000\n",
       "25%     13.347500    2.000000    2.000000\n",
       "50%     17.795000    2.900000    2.000000\n",
       "75%     24.127500    3.562500    3.000000\n",
       "max     50.810000   10.000000    6.000000"
      ]
     },
     "execution_count": 14,
     "metadata": {},
     "output_type": "execute_result"
    }
   ],
   "source": [
    "import pandas as pd\n",
    "import seaborn as sns\n",
    "\n",
    "tips = sns.load_dataset('tips')       # Load the dataset\n",
    "# print(tips.head(10))                    # Display the first five rows\n",
    "tips.describe()"
   ]
  },
  {
   "cell_type": "markdown",
   "id": "2b6c4599-25e9-491a-91f2-5c7fa112ac0c",
   "metadata": {},
   "source": [
    "#### 1.2 Understanding the Dataset Structure\r\n",
    "\r\n",
    "Using the `info()` method, we can quickly examine the structure of the tips dataset. It reveals that the dataset contains 244 entries and 7 columns, all of which have no missing values. The columns include numerical data (`total_bill`, `tip`, `size`) and categorical data (`sex`, `smoker`, `day`, `time`)\n",
    "\n",
    ". This summary helps us confirm that the data is complete and appropriately typed for analysis. For instance, categorical variables like `sex` and `day` are stored as `category`, which is memory efficient and facilitates operations like grouping and aggregation.\r\n"
   ]
  },
  {
   "cell_type": "code",
   "execution_count": 5,
   "id": "ab48b3cc-27a5-42c2-bd2e-e07368a5abf8",
   "metadata": {},
   "outputs": [
    {
     "name": "stdout",
     "output_type": "stream",
     "text": [
      "<class 'pandas.core.frame.DataFrame'>\n",
      "RangeIndex: 244 entries, 0 to 243\n",
      "Data columns (total 7 columns):\n",
      " #   Column      Non-Null Count  Dtype   \n",
      "---  ------      --------------  -----   \n",
      " 0   total_bill  244 non-null    float64 \n",
      " 1   tip         244 non-null    float64 \n",
      " 2   sex         244 non-null    category\n",
      " 3   smoker      244 non-null    category\n",
      " 4   day         244 non-null    category\n",
      " 5   time        244 non-null    category\n",
      " 6   size        244 non-null    int64   \n",
      "dtypes: category(4), float64(2), int64(1)\n",
      "memory usage: 7.4 KB\n",
      "None\n"
     ]
    }
   ],
   "source": [
    "print(tips.info())                   # Summary of the dataset"
   ]
  },
  {
   "cell_type": "markdown",
   "id": "f8b07354-26bc-42ed-b3a9-586bee9473a9",
   "metadata": {},
   "source": [
    "#### 1.3 Statistical Overview of the Dataset\n",
    "\n",
    "The `describe()` method provides a statistical summary of the numerical columns in the dataset, such as `total_bill`, `tip`, and `size`. It includes metrics like the mean, standard deviation, minimum, and maximum values, along with the 25th, 50th (median), and 75th percentiles. \n",
    "\n",
    "This overview is valuable for understanding the distribution and variability of the data. For example, we can see that the average total bill is around $\\$19.79$, with tips averaging about $\\$2.99$. This summary helps identify potential outliers, skewness, or unusual patterns, guiding our next steps in data exploration or cleaning.\n"
   ]
  },
  {
   "cell_type": "code",
   "execution_count": 7,
   "id": "ca032a99-8a4c-4f7e-9ef2-43dd0f409c49",
   "metadata": {},
   "outputs": [
    {
     "name": "stdout",
     "output_type": "stream",
     "text": [
      "       total_bill         tip        size\n",
      "count  244.000000  244.000000  244.000000\n",
      "mean    19.785943    2.998279    2.569672\n",
      "std      8.902412    1.383638    0.951100\n",
      "min      3.070000    1.000000    1.000000\n",
      "25%     13.347500    2.000000    2.000000\n",
      "50%     17.795000    2.900000    2.000000\n",
      "75%     24.127500    3.562500    3.000000\n",
      "max     50.810000   10.000000    6.000000\n"
     ]
    }
   ],
   "source": [
    "print(tips.describe())               # Statistical overview"
   ]
  },
  {
   "cell_type": "markdown",
   "id": "4b83b581-66af-45a0-9833-dd1fdb33f44c",
   "metadata": {},
   "source": [
    "\n",
    "\n",
    "---"
   ]
  },
  {
   "cell_type": "markdown",
   "id": "9e39eeb2-de03-43c3-b403-ac92d861b814",
   "metadata": {},
   "source": [
    "\n",
    "### 2. Understanding Tip Distributions\n",
    "\n",
    "To establish a baseline, let’s explore the distribution of tips and the relationship between tips and total bills.\n",
    "\n",
    "#### 2.1 Summary Statistics for Tips\r\n",
    "\r\n",
    "By using the `describe()` method on the `tip` column, we obtain a detailed summary of the tip amounts in the dataset. The mean tip is 2.99, with a standard deviation of 1.38. The minimum tip is 1.00, and the maximum tip is 10.00. The quartiles show that 50% of tips fall between 2.00 and 3.00, with a median tip of 2.89. This summary helps us understand the typical tipping behavior and identify potential outliers, providing valuable insights for further analysis.\r\n",
    ".\r\n",
    ".\r\n",
    "\n"
   ]
  },
  {
   "cell_type": "code",
   "execution_count": 10,
   "id": "33a8feb5-bb66-4a29-a0ac-626520da92a9",
   "metadata": {},
   "outputs": [
    {
     "name": "stdout",
     "output_type": "stream",
     "text": [
      "count    244.000000\n",
      "mean       2.998279\n",
      "std        1.383638\n",
      "min        1.000000\n",
      "25%        2.000000\n",
      "50%        2.900000\n",
      "75%        3.562500\n",
      "max       10.000000\n",
      "Name: tip, dtype: float64\n"
     ]
    }
   ],
   "source": [
    "print(tips['tip'].describe())         # Summary statistics for tips"
   ]
  },
  {
   "cell_type": "markdown",
   "id": "25d33362-d07b-42d2-9088-2ec9c7641e55",
   "metadata": {},
   "source": [
    "#### 2.2 Identifying Unusually High Tips\r\n",
    "\r\n",
    "By filtering the `tip` column using the 95th percentile (`quantile(0.95)`), we can identify unusually high tips. This operation returns the rows where the tip exceeds the value at the 95th percentile, which helps us spot outliers or exceptional tipping behavior. In this case, we observe tips above 6.00, which are higher than the majority of tips in the dataset. Analyzing these extreme values can provide insights into specific customer behaviors or special circumstances, such as large groups or extraordinary service, that may warrant further exploration.\r\n",
    ".\r\n"
   ]
  },
  {
   "cell_type": "code",
   "execution_count": 11,
   "id": "88aa2682-78e3-4a57-b2e2-0cf5a1e2670b",
   "metadata": {
    "scrolled": true
   },
   "outputs": [
    {
     "name": "stdout",
     "output_type": "stream",
     "text": [
      "     total_bill    tip     sex smoker   day    time  size\n",
      "23        39.42   7.58    Male     No   Sat  Dinner     4\n",
      "44        30.40   5.60    Male     No   Sun  Dinner     4\n",
      "47        32.40   6.00    Male     No   Sun  Dinner     4\n",
      "52        34.81   5.20  Female     No   Sun  Dinner     4\n",
      "59        48.27   6.73    Male     No   Sat  Dinner     4\n",
      "88        24.71   5.85    Male     No  Thur   Lunch     2\n",
      "141       34.30   6.70    Male     No  Thur   Lunch     6\n",
      "170       50.81  10.00    Male    Yes   Sat  Dinner     3\n",
      "181       23.33   5.65    Male    Yes   Sun  Dinner     2\n",
      "183       23.17   6.50    Male    Yes   Sun  Dinner     4\n",
      "212       48.33   9.00    Male     No   Sat  Dinner     4\n",
      "214       28.17   6.50  Female    Yes   Sat  Dinner     3\n",
      "239       29.03   5.92    Male     No   Sat  Dinner     3\n"
     ]
    }
   ],
   "source": [
    "print(tips[tips['tip'] > tips['tip'].quantile(0.95)])             # Identify unusually high or low tips"
   ]
  },
  {
   "cell_type": "markdown",
   "id": "1a88b807-38f1-4093-ba3e-fa2856e4e720",
   "metadata": {},
   "source": [
    "**Key Insights:**  \n",
    "- The majority of tips fall within a specific range (e.g., $2–$5).  \n",
    "- Outliers or unusually high tips may represent exceptional service or large groups.  \n"
   ]
  },
  {
   "cell_type": "markdown",
   "id": "d30c29e9-64eb-4b76-9e24-823257d502c3",
   "metadata": {},
   "source": [
    "#### 2.3 Correlation Between Total Bill and Tip\n",
    "\n",
    "To explore the relationship between the total bill and the tip, we calculate the correlation coefficient using the `corr()` method. The resulting correlation value of 0.68 indicates a moderate positive correlation, meaning that as the total bill increases, the tip also tends to increase. \n",
    "\n",
    "This is expected, as larger bills generally result in higher tip amounts. Understanding this correlation helps us quantify the relationship and can guide business decisions, such as adjusting tipping policies or analyzing how total bill amounts influence overall revenue.\n"
   ]
  },
  {
   "cell_type": "code",
   "execution_count": 22,
   "id": "e9ce738a-572d-4196-8993-69a99705e990",
   "metadata": {},
   "outputs": [
    {
     "name": "stdout",
     "output_type": "stream",
     "text": [
      "Correlation between total bill and tip: 0.68\n"
     ]
    }
   ],
   "source": [
    "# Correlation between total bill and tip\n",
    "correlation = tips['total_bill'].corr(tips['tip'])\n",
    "print(f\"Correlation between total bill and tip: {correlation:.2f}\")"
   ]
  },
  {
   "cell_type": "markdown",
   "id": "4f662a0c-d36a-4ecd-8064-4c4a4c5f0eb2",
   "metadata": {},
   "source": [
    "A strong positive correlation indicates that higher bills generally lead to higher tips.\n",
    "\n",
    "---"
   ]
  },
  {
   "cell_type": "markdown",
   "id": "4244523a-74e1-4dc0-9806-1763e85552c6",
   "metadata": {},
   "source": [
    "### **3: Analyzing Demographic Factors**\n",
    "\n",
    "#### 3.1 Tipping Behavior by Gender\n",
    "\n",
    "\n",
    "**Goal:**  \n",
    "- Compare tipping behavior between male and female customers.  \n",
    "- Assess if there are significant differences in tipping practices.\n",
    "\n",
    "\r\n",
    "Using the `groupby()` method, we calculated the average tip for each gender by grouping the data based on the `sex` column. The results show that male customers, on average, tip 3.09, while female customers tip 2.83\n",
    "\n",
    ". This indicates a slight difference in tipping behavior between genders, with males tipping slightly more on average. Such insights could be useful for understanding customer behavior and might inform service strategies or further demographic analyses related to tipping patterns.\r\n",
    ".\r\n"
   ]
  },
  {
   "cell_type": "code",
   "execution_count": 26,
   "id": "b356819a-8db1-43aa-bcdc-9c8df6e8c114",
   "metadata": {},
   "outputs": [
    {
     "data": {
      "text/html": [
       "<div>\n",
       "<style scoped>\n",
       "    .dataframe tbody tr th:only-of-type {\n",
       "        vertical-align: middle;\n",
       "    }\n",
       "\n",
       "    .dataframe tbody tr th {\n",
       "        vertical-align: top;\n",
       "    }\n",
       "\n",
       "    .dataframe thead th {\n",
       "        text-align: right;\n",
       "    }\n",
       "</style>\n",
       "<table border=\"1\" class=\"dataframe\">\n",
       "  <thead>\n",
       "    <tr style=\"text-align: right;\">\n",
       "      <th></th>\n",
       "      <th>total_bill</th>\n",
       "      <th>tip</th>\n",
       "      <th>sex</th>\n",
       "      <th>smoker</th>\n",
       "      <th>day</th>\n",
       "      <th>time</th>\n",
       "      <th>size</th>\n",
       "    </tr>\n",
       "  </thead>\n",
       "  <tbody>\n",
       "    <tr>\n",
       "      <th>0</th>\n",
       "      <td>16.99</td>\n",
       "      <td>1.01</td>\n",
       "      <td>Female</td>\n",
       "      <td>No</td>\n",
       "      <td>Sun</td>\n",
       "      <td>Dinner</td>\n",
       "      <td>2</td>\n",
       "    </tr>\n",
       "    <tr>\n",
       "      <th>1</th>\n",
       "      <td>10.34</td>\n",
       "      <td>1.66</td>\n",
       "      <td>Male</td>\n",
       "      <td>No</td>\n",
       "      <td>Sun</td>\n",
       "      <td>Dinner</td>\n",
       "      <td>3</td>\n",
       "    </tr>\n",
       "    <tr>\n",
       "      <th>2</th>\n",
       "      <td>21.01</td>\n",
       "      <td>3.50</td>\n",
       "      <td>Male</td>\n",
       "      <td>No</td>\n",
       "      <td>Sun</td>\n",
       "      <td>Dinner</td>\n",
       "      <td>3</td>\n",
       "    </tr>\n",
       "    <tr>\n",
       "      <th>3</th>\n",
       "      <td>23.68</td>\n",
       "      <td>3.31</td>\n",
       "      <td>Male</td>\n",
       "      <td>No</td>\n",
       "      <td>Sun</td>\n",
       "      <td>Dinner</td>\n",
       "      <td>2</td>\n",
       "    </tr>\n",
       "    <tr>\n",
       "      <th>4</th>\n",
       "      <td>24.59</td>\n",
       "      <td>3.61</td>\n",
       "      <td>Female</td>\n",
       "      <td>No</td>\n",
       "      <td>Sun</td>\n",
       "      <td>Dinner</td>\n",
       "      <td>4</td>\n",
       "    </tr>\n",
       "  </tbody>\n",
       "</table>\n",
       "</div>"
      ],
      "text/plain": [
       "   total_bill   tip     sex smoker  day    time  size\n",
       "0       16.99  1.01  Female     No  Sun  Dinner     2\n",
       "1       10.34  1.66    Male     No  Sun  Dinner     3\n",
       "2       21.01  3.50    Male     No  Sun  Dinner     3\n",
       "3       23.68  3.31    Male     No  Sun  Dinner     2\n",
       "4       24.59  3.61  Female     No  Sun  Dinner     4"
      ]
     },
     "execution_count": 26,
     "metadata": {},
     "output_type": "execute_result"
    }
   ],
   "source": [
    "tips.head()"
   ]
  },
  {
   "cell_type": "code",
   "execution_count": 38,
   "id": "4f28f344-365b-4b87-aa7a-9723bea74e62",
   "metadata": {},
   "outputs": [
    {
     "name": "stdout",
     "output_type": "stream",
     "text": [
      "sex\n",
      "Male      3.089618\n",
      "Female    2.833448\n",
      "Name: tip, dtype: float64\n"
     ]
    }
   ],
   "source": [
    "# Average tip by gender\n",
    "gender_tips = tips.groupby('sex', observed=True)['tip'].mean()\n",
    "print(gender_tips)"
   ]
  },
  {
   "cell_type": "markdown",
   "id": "7cab2784-267c-4b74-9605-37e8380cb46d",
   "metadata": {},
   "source": [
    "#### 3.2 Influence of Group Size on Tips  \n",
    "\n",
    "\r\n",
    "By calculating the tip per person (i.e., dividing the total tip by the group size), we can analyze how tipping behavior changes as the group size increases\n",
    "\n",
    "\r\n",
    "By calculating the tip per person (i.e., dividing the total tip by the group size), we can analyze how tipping behavior changes as the group size increases. The results show that smaller groups tend to tip more per person, with a tip of 1.44 for a group of 1 person, which gradually decreases as the group size grows. For example, a group of 5 people tips an average of 0.81 per person. This trend suggests that larger groups may contribute a smaller tip per individual, which could be useful when considering automatic gratuities or adjusting service strategies for different group sizes.\r\n",
    ".\r\n",
    "\n"
   ]
  },
  {
   "cell_type": "code",
   "execution_count": 40,
   "id": "3cd31912-c369-4e9d-9f11-e4a2dae0094d",
   "metadata": {},
   "outputs": [
    {
     "name": "stdout",
     "output_type": "stream",
     "text": [
      "size\n",
      "1    1.437500\n",
      "2    1.291154\n",
      "3    1.131053\n",
      "4    1.033851\n",
      "5    0.805600\n",
      "6    0.870833\n",
      "Name: tip_per_person, dtype: float64\n"
     ]
    }
   ],
   "source": [
    "# Average tip per person by group size\n",
    "tips['tip_per_person'] = tips['tip'] / tips['size']\n",
    "group_size_analysis = tips.groupby('size')['tip_per_person'].mean()\n",
    "print(group_size_analysis)"
   ]
  },
  {
   "cell_type": "code",
   "execution_count": 42,
   "id": "12f67978-003f-4dfd-b1e2-fbd7b99209c4",
   "metadata": {},
   "outputs": [
    {
     "data": {
      "text/html": [
       "<div>\n",
       "<style scoped>\n",
       "    .dataframe tbody tr th:only-of-type {\n",
       "        vertical-align: middle;\n",
       "    }\n",
       "\n",
       "    .dataframe tbody tr th {\n",
       "        vertical-align: top;\n",
       "    }\n",
       "\n",
       "    .dataframe thead th {\n",
       "        text-align: right;\n",
       "    }\n",
       "</style>\n",
       "<table border=\"1\" class=\"dataframe\">\n",
       "  <thead>\n",
       "    <tr style=\"text-align: right;\">\n",
       "      <th></th>\n",
       "      <th>total_bill</th>\n",
       "      <th>tip</th>\n",
       "      <th>sex</th>\n",
       "      <th>smoker</th>\n",
       "      <th>day</th>\n",
       "      <th>time</th>\n",
       "      <th>size</th>\n",
       "      <th>tip_per_person</th>\n",
       "    </tr>\n",
       "  </thead>\n",
       "  <tbody>\n",
       "    <tr>\n",
       "      <th>0</th>\n",
       "      <td>16.99</td>\n",
       "      <td>1.01</td>\n",
       "      <td>Female</td>\n",
       "      <td>No</td>\n",
       "      <td>Sun</td>\n",
       "      <td>Dinner</td>\n",
       "      <td>2</td>\n",
       "      <td>0.505000</td>\n",
       "    </tr>\n",
       "    <tr>\n",
       "      <th>1</th>\n",
       "      <td>10.34</td>\n",
       "      <td>1.66</td>\n",
       "      <td>Male</td>\n",
       "      <td>No</td>\n",
       "      <td>Sun</td>\n",
       "      <td>Dinner</td>\n",
       "      <td>3</td>\n",
       "      <td>0.553333</td>\n",
       "    </tr>\n",
       "    <tr>\n",
       "      <th>2</th>\n",
       "      <td>21.01</td>\n",
       "      <td>3.50</td>\n",
       "      <td>Male</td>\n",
       "      <td>No</td>\n",
       "      <td>Sun</td>\n",
       "      <td>Dinner</td>\n",
       "      <td>3</td>\n",
       "      <td>1.166667</td>\n",
       "    </tr>\n",
       "    <tr>\n",
       "      <th>3</th>\n",
       "      <td>23.68</td>\n",
       "      <td>3.31</td>\n",
       "      <td>Male</td>\n",
       "      <td>No</td>\n",
       "      <td>Sun</td>\n",
       "      <td>Dinner</td>\n",
       "      <td>2</td>\n",
       "      <td>1.655000</td>\n",
       "    </tr>\n",
       "    <tr>\n",
       "      <th>4</th>\n",
       "      <td>24.59</td>\n",
       "      <td>3.61</td>\n",
       "      <td>Female</td>\n",
       "      <td>No</td>\n",
       "      <td>Sun</td>\n",
       "      <td>Dinner</td>\n",
       "      <td>4</td>\n",
       "      <td>0.902500</td>\n",
       "    </tr>\n",
       "  </tbody>\n",
       "</table>\n",
       "</div>"
      ],
      "text/plain": [
       "   total_bill   tip     sex smoker  day    time  size  tip_per_person\n",
       "0       16.99  1.01  Female     No  Sun  Dinner     2        0.505000\n",
       "1       10.34  1.66    Male     No  Sun  Dinner     3        0.553333\n",
       "2       21.01  3.50    Male     No  Sun  Dinner     3        1.166667\n",
       "3       23.68  3.31    Male     No  Sun  Dinner     2        1.655000\n",
       "4       24.59  3.61  Female     No  Sun  Dinner     4        0.902500"
      ]
     },
     "execution_count": 42,
     "metadata": {},
     "output_type": "execute_result"
    }
   ],
   "source": [
    "tips.head()"
   ]
  },
  {
   "cell_type": "markdown",
   "id": "c8b2e1d4-0af5-4b2a-888d-57c2ab46c405",
   "metadata": {},
   "source": [
    "---"
   ]
  },
  {
   "cell_type": "markdown",
   "id": "18583b9f-aee4-402f-aa1f-a044708d5c76",
   "metadata": {},
   "source": [
    "### **4: Temporal Analysis**\n",
    "\n",
    "\n",
    "#### 4.1 Tipping Patterns by Day of the Week  \n",
    "\n",
    "**Goal:**  \n",
    "- Identify which days generate the highest average tips.  \n",
    "- This could inform staffing or promotional decisions.\n",
    "\n",
    "\r\n",
    "Using the `groupby()` method, we calculated the average tip for each day of the week. The results show that tips are highest on Sunday (3.26), followed by Saturday (2.99), with Thursday and Friday being slightly lower (2.77 and 2.73, respectively)ue())\r\n"
   ]
  },
  {
   "cell_type": "code",
   "execution_count": 21,
   "id": "29bfc60f-7470-48e7-9d3b-576a55004756",
   "metadata": {},
   "outputs": [
    {
     "name": "stdout",
     "output_type": "stream",
     "text": [
      "day\n",
      "Thur    2.771452\n",
      "Fri     2.734737\n",
      "Sat     2.993103\n",
      "Sun     3.255132\n",
      "Name: tip, dtype: float64\n"
     ]
    }
   ],
   "source": [
    "# Average tip by day\n",
    "tips_by_day = tips.groupby('day', observed=True)['tip'].mean()\n",
    "print(tips_by_day)"
   ]
  },
  {
   "cell_type": "markdown",
   "id": "9f9b8e68-a21b-4814-8a0f-1fd27c80e12f",
   "metadata": {},
   "source": [
    "This indicates that customers tend to tip more generously on the weekend. To ensure the dataset only contains data for these four days, we can check for any other days that might be present:\n"
   ]
  },
  {
   "cell_type": "code",
   "execution_count": 64,
   "id": "eff358de-239f-4c48-b67b-f8be59c7c191",
   "metadata": {},
   "outputs": [
    {
     "name": "stdout",
     "output_type": "stream",
     "text": [
      "['Sun', 'Sat', 'Thur', 'Fri']\n",
      "Categories (4, object): ['Thur', 'Fri', 'Sat', 'Sun']\n"
     ]
    }
   ],
   "source": [
    "# Check for any other days in the dataset\n",
    "print(tips['day'].unique())\n"
   ]
  },
  {
   "cell_type": "markdown",
   "id": "9d8b13e9-9dcf-411d-8f59-64414869c052",
   "metadata": {},
   "source": [
    "#### 4.2 Tipping Behavior During Lunch vs. Dinner  \n",
    "\n",
    "### Average Tip by Time of Day\r\n",
    "\r\n",
    "By grouping the dataset by the `time` column, we calculated the average tip for lunch and dinner. The results show that tips are higher during dinner (average tip of 106) compared to lunch (average tip of 2.73). This suggests that dinner meals, which typically involve larger bills, tend to generate higher tips. Understanding these trends can help restaurants optimize staffing or adjust pricing strategies based on meal times to maximize revenue and improve customer service.\r\n"
   ]
  },
  {
   "cell_type": "code",
   "execution_count": 23,
   "id": "bca2a97b-28ae-46c3-b4f8-d4ec9d046b56",
   "metadata": {},
   "outputs": [
    {
     "name": "stdout",
     "output_type": "stream",
     "text": [
      "time\n",
      "Lunch     2.728088\n",
      "Dinner    3.102670\n",
      "Name: tip, dtype: float64\n"
     ]
    }
   ],
   "source": [
    "# Average tip by time of day\n",
    "tips_by_time = tips.groupby('time', observed=True)['tip'].mean()\n",
    "print(tips_by_time)"
   ]
  },
  {
   "cell_type": "markdown",
   "id": "7675df0b-7f2d-43b9-847d-3fde15b0c38f",
   "metadata": {},
   "source": [
    "---"
   ]
  },
  {
   "cell_type": "markdown",
   "id": "3b2ff6c0-b50d-4ec8-920c-6623fc22ce22",
   "metadata": {},
   "source": [
    "### **5: Advanced Explorations**\n",
    "\n",
    "#### 5.1 Impact of Smoking on Tips  \n",
    "\n",
    "\r\n",
    "By grouping the dataset by the `smoker` column, we calculated the average tip for smoker and non-smoker tables. The results show that the average tip for smoker tables is 3.01, while non-smoker tables average 2.99. Although the difference is very small, smoker tables tend to tip slightly more on average. This subtle trend could provide useful insights for restaurant seating strategies or customer service adjustments, but further analysis would be needed to confirm any significant patterns or underlying factors influencing tipping behavior.\r\n",
    "s.\r\n"
   ]
  },
  {
   "cell_type": "code",
   "execution_count": 26,
   "id": "3fc34313-6828-4407-8ed5-bb381428d261",
   "metadata": {},
   "outputs": [
    {
     "name": "stdout",
     "output_type": "stream",
     "text": [
      "smoker\n",
      "Yes    3.008710\n",
      "No     2.991854\n",
      "Name: tip, dtype: float64\n"
     ]
    }
   ],
   "source": [
    "# Compare tips for smoker vs. non-smoker tables\n",
    "smoker_tips = tips.groupby('smoker', observed=True)['tip'].mean()\n",
    "print(smoker_tips)"
   ]
  },
  {
   "cell_type": "markdown",
   "id": "571b76f2-2b77-4eaa-bd3e-d604f60a253d",
   "metadata": {},
   "source": [
    "#### 5.2 Percentage Tips  \n",
    "\n",
    "\r\n",
    "To better understand tipping behavior, we calculated the tip as a percentage of the total bill using the formula `(tip / total_bill) * 100`. The results show that, on average, males tip 15.77% of their total bill, while females tip 16.65%. This indicates that, on average, female customers leave a slightly higher percentage tip than male customers. These insights could be useful for further analyzing customer behavior and refining restaurant policies or promotional efforts to encourage higher tip percentages across different demographics.\r\n"
   ]
  },
  {
   "cell_type": "code",
   "execution_count": 28,
   "id": "f6f4450b-aae7-487e-b084-9982622d994d",
   "metadata": {},
   "outputs": [
    {
     "name": "stdout",
     "output_type": "stream",
     "text": [
      "sex\n",
      "Male      15.765055\n",
      "Female    16.649074\n",
      "Name: tip_percentage, dtype: float64\n"
     ]
    }
   ],
   "source": [
    "# Calculate tip percentage\n",
    "tips['tip_percentage'] = (tips['tip'] / tips['total_bill']) * 100\n",
    "\n",
    "# Average tip percentage by demographic\n",
    "tip_pct_by_gender = tips.groupby('sex', observed=True)['tip_percentage'].mean()\n",
    "print(tip_pct_by_gender)"
   ]
  },
  {
   "cell_type": "markdown",
   "id": "67827e96-739a-480a-9cb6-c69fda408391",
   "metadata": {},
   "source": [
    "---\n"
   ]
  },
  {
   "cell_type": "markdown",
   "id": "74249285-0ac5-46e8-ac7b-1c90e58b46af",
   "metadata": {},
   "source": [
    "### 6. Key Insights from Tipping Analysis\n",
    "\n",
    "\r\n",
    "1. **Peak Tipping Times**: Dinner and weekends generate higher tips on average. Dinner tips are generally higher (average tip of 3.06) compared to lunch (average tip of 2.73), and Sundays see the highest tips (average tip of 3.26). Restaurants should ensure experienced staff are available during these peak periods to optimize service and enhance customer satisfaction.\r\n",
    "\r\n",
    "2. **Demographics**: There is a small difference in tipping behavior based on gender, with females tipping slightly more (16.65%) than males (15.77%). Additionally, smoker and non-smoker tables show minimal differences in tipping, with smokers tipping slightly more (3.01) than non-smokers (2.99). These trends can guide marketing strategies or customer service customization, for example, by offering personalized promotions to specific groups.\r\n",
    "\r\n",
    "3. **Group Size Considerations**: Larger groups tend to tip less per person. For instance, group sizes of 5 or more show a decrease in tip per person. Introducing automatic gratuities for larger groups could help ensure that servers receive fair compensation, especially during busy times.\r\n",
    "\r\n",
    "4. **Education on Tipping Norms**: The calculation of tip percentages (average of 15.77% for males and 16.65% for females) suggests that standard tipping practices could be encouraged. Informing customers about typical tipping percentages, such as through menu or receipt notifications, may help ensure more consistent and appropriate tipping behavior.\r\n",
    "\r\n",
    "Through this analysis, we uncovered actionable insights into tipping behaviors. By leveraging Pandas, we efficiently explored and analyzed the dataset, showcasing its powerful capabilities for data manipulation and analysis. Further analyses with visualization libraries like matplotlib or seaborn could strengthen these findings and offer deeper insights.\r\n",
    "\n",
    "\n"
   ]
  }
 ],
 "metadata": {
  "kernelspec": {
   "display_name": "Python 3 (ipykernel)",
   "language": "python",
   "name": "python3"
  },
  "language_info": {
   "codemirror_mode": {
    "name": "ipython",
    "version": 3
   },
   "file_extension": ".py",
   "mimetype": "text/x-python",
   "name": "python",
   "nbconvert_exporter": "python",
   "pygments_lexer": "ipython3",
   "version": "3.12.4"
  }
 },
 "nbformat": 4,
 "nbformat_minor": 5
}
