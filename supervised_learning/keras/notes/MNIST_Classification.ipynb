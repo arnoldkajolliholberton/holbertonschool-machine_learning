{
 "cells": [
  {
   "cell_type": "markdown",
   "metadata": {
    "id": "_Z6shD1SL8w_"
   },
   "source": [
    "<img src=\"../holberton_logo.png\" alt=\"logo\" width=\"500\"/>\n",
    "\n",
    "# Classification of Hand Written Digits\n",
    "This example shows how to build a feed forward neural network that can be used to recognize images of hand-written digits, from 0-9.\n",
    "\n",
    "Our workflow will consist of the following steps\n",
    "- import libraries needed to compile and train the neural network and visualize data\n",
    "- get the MNIST dataset of handwritten digits\n",
    "- preprocess the data\n",
    "- split the dataset into data used for training and testing\n",
    "- build the neural network\n",
    "- train the neural network\n",
    "- test the neural network by showcasing the classification for some random instances\n",
    "\n"
   ]
  },
  {
   "cell_type": "markdown",
   "metadata": {
    "id": "upbDs27BM_oF"
   },
   "source": [
    "## Import libraries\n",
    "- tensorflow\n",
    "- keras\n",
    "- matplotlib"
   ]
  },
  {
   "cell_type": "code",
   "execution_count": 3,
   "metadata": {
    "id": "RQXspm48M0Q0"
   },
   "outputs": [],
   "source": [
    "# Let's import the libraries we'll need\n",
    "import tensorflow as tf\n",
    "from tensorflow import keras\n",
    "import matplotlib.pyplot as plt"
   ]
  },
  {
   "cell_type": "markdown",
   "metadata": {
    "id": "3rtIhF0ZNJ2U"
   },
   "source": [
    "## 1. Load the MNIST dataset\n",
    "\n",
    "The MNIST dataset consists of `70,000` grayscale images of handwritten digits (`0-9`) with a resolution of `28x28` pixels. It is split into:\r\n",
    "\r\n",
    "- **Training set*``* 600``00 images (`x_train`) with corresponding labels (`y_train`).\r\n",
    "- **Test st:``** 0,``000 images (`x_test`) with corresponding labels (`y_test`).\r\n",
    "\r\n",
    "Each image is represented as a **28x28 NumPy array**, and the labels are integers from 0 to 9."
   ]
  },
  {
   "cell_type": "code",
   "execution_count": 5,
   "metadata": {
    "colab": {
     "base_uri": "https://localhost:8080/"
    },
    "id": "fVSNpDLJNP7O",
    "outputId": "aa4c866d-52f0-4d4a-fcb7-48eb8ca8bf6d"
   },
   "outputs": [],
   "source": [
    "# Now, let's load the MNIST dataset\n",
    "(x_train, y_train), (x_test, y_test) = keras.datasets.mnist.load_data()"
   ]
  },
  {
   "cell_type": "markdown",
   "metadata": {},
   "source": [
    "## Exploring the Dataset Structure\n",
    "\n",
    "Let's check the shape of the dataset and visualize some samples."
   ]
  },
  {
   "cell_type": "code",
   "execution_count": 7,
   "metadata": {},
   "outputs": [
    {
     "name": "stdout",
     "output_type": "stream",
     "text": [
      "Training data shape: (60000, 28, 28)\n",
      "Training labels shape: (60000,)\n",
      "Test data shape: (10000, 28, 28)\n",
      "Test labels shape: (10000,)\n"
     ]
    }
   ],
   "source": [
    "# Print dataset shapes\n",
    "print(\"Training data shape:\", x_train.shape)\n",
    "print(\"Training labels shape:\", y_train.shape)\n",
    "print(\"Test data shape:\", x_test.shape)\n",
    "print(\"Test labels shape:\", y_test.shape)"
   ]
  },
  {
   "cell_type": "markdown",
   "metadata": {},
   "source": [
    "### Understanding MNIST Data Format\n",
    "\n",
    "Each image in the dataset is stored as a **28x28 NumPy array** with pixel values ranging from 0 to 255.  \n",
    "The labels are integers (0-9) representing the corresponding digit.\n",
    "\n",
    "Let's examine one training image and its label.\n"
   ]
  },
  {
   "cell_type": "code",
   "execution_count": 9,
   "metadata": {},
   "outputs": [
    {
     "name": "stdout",
     "output_type": "stream",
     "text": [
      "Sample Image Array:\n",
      " [[  0   0   0   0   0   0   0   0   0   0   0   0   0   0   0   0   0   0\n",
      "    0   0   0   0   0   0   0   0   0   0]\n",
      " [  0   0   0   0   0   0   0   0   0   0   0   0   0   0   0   0   0   0\n",
      "    0   0   0   0   0   0   0   0   0   0]\n",
      " [  0   0   0   0   0   0   0   0   0   0   0   0   0   0   0   0   0   0\n",
      "    0   0   0   0   0   0   0   0   0   0]\n",
      " [  0   0   0   0   0   0   0   0   0   0   0   0   0   0   0   0   0   0\n",
      "    0   0   0   0   0   0   0   0   0   0]\n",
      " [  0   0   0   0   0   0   0   0   0   0   0   0   0   0   0   0   0   0\n",
      "    0   0   0   0   0   0   0   0   0   0]\n",
      " [  0   0   0   0   0   0   0   0   0   0   0   0   3  18  18  18 126 136\n",
      "  175  26 166 255 247 127   0   0   0   0]\n",
      " [  0   0   0   0   0   0   0   0  30  36  94 154 170 253 253 253 253 253\n",
      "  225 172 253 242 195  64   0   0   0   0]\n",
      " [  0   0   0   0   0   0   0  49 238 253 253 253 253 253 253 253 253 251\n",
      "   93  82  82  56  39   0   0   0   0   0]\n",
      " [  0   0   0   0   0   0   0  18 219 253 253 253 253 253 198 182 247 241\n",
      "    0   0   0   0   0   0   0   0   0   0]\n",
      " [  0   0   0   0   0   0   0   0  80 156 107 253 253 205  11   0  43 154\n",
      "    0   0   0   0   0   0   0   0   0   0]\n",
      " [  0   0   0   0   0   0   0   0   0  14   1 154 253  90   0   0   0   0\n",
      "    0   0   0   0   0   0   0   0   0   0]\n",
      " [  0   0   0   0   0   0   0   0   0   0   0 139 253 190   2   0   0   0\n",
      "    0   0   0   0   0   0   0   0   0   0]\n",
      " [  0   0   0   0   0   0   0   0   0   0   0  11 190 253  70   0   0   0\n",
      "    0   0   0   0   0   0   0   0   0   0]\n",
      " [  0   0   0   0   0   0   0   0   0   0   0   0  35 241 225 160 108   1\n",
      "    0   0   0   0   0   0   0   0   0   0]\n",
      " [  0   0   0   0   0   0   0   0   0   0   0   0   0  81 240 253 253 119\n",
      "   25   0   0   0   0   0   0   0   0   0]\n",
      " [  0   0   0   0   0   0   0   0   0   0   0   0   0   0  45 186 253 253\n",
      "  150  27   0   0   0   0   0   0   0   0]\n",
      " [  0   0   0   0   0   0   0   0   0   0   0   0   0   0   0  16  93 252\n",
      "  253 187   0   0   0   0   0   0   0   0]\n",
      " [  0   0   0   0   0   0   0   0   0   0   0   0   0   0   0   0   0 249\n",
      "  253 249  64   0   0   0   0   0   0   0]\n",
      " [  0   0   0   0   0   0   0   0   0   0   0   0   0   0  46 130 183 253\n",
      "  253 207   2   0   0   0   0   0   0   0]\n",
      " [  0   0   0   0   0   0   0   0   0   0   0   0  39 148 229 253 253 253\n",
      "  250 182   0   0   0   0   0   0   0   0]\n",
      " [  0   0   0   0   0   0   0   0   0   0  24 114 221 253 253 253 253 201\n",
      "   78   0   0   0   0   0   0   0   0   0]\n",
      " [  0   0   0   0   0   0   0   0  23  66 213 253 253 253 253 198  81   2\n",
      "    0   0   0   0   0   0   0   0   0   0]\n",
      " [  0   0   0   0   0   0  18 171 219 253 253 253 253 195  80   9   0   0\n",
      "    0   0   0   0   0   0   0   0   0   0]\n",
      " [  0   0   0   0  55 172 226 253 253 253 253 244 133  11   0   0   0   0\n",
      "    0   0   0   0   0   0   0   0   0   0]\n",
      " [  0   0   0   0 136 253 253 253 212 135 132  16   0   0   0   0   0   0\n",
      "    0   0   0   0   0   0   0   0   0   0]\n",
      " [  0   0   0   0   0   0   0   0   0   0   0   0   0   0   0   0   0   0\n",
      "    0   0   0   0   0   0   0   0   0   0]\n",
      " [  0   0   0   0   0   0   0   0   0   0   0   0   0   0   0   0   0   0\n",
      "    0   0   0   0   0   0   0   0   0   0]\n",
      " [  0   0   0   0   0   0   0   0   0   0   0   0   0   0   0   0   0   0\n",
      "    0   0   0   0   0   0   0   0   0   0]]\n",
      "\n",
      "Label: 5\n"
     ]
    }
   ],
   "source": [
    "# Print a single image array and its label\n",
    "print(\"Sample Image Array:\\n\", x_train[0]) \n",
    "print(\"\\nLabel:\", y_train[0])  "
   ]
  },
  {
   "cell_type": "markdown",
   "metadata": {},
   "source": [
    "We explore the dataset by displaying sample images along with their labels, helping to understand the data distribution and structure."
   ]
  },
  {
   "cell_type": "code",
   "execution_count": 11,
   "metadata": {},
   "outputs": [
    {
     "data": {
      "image/png": "[encoded data removed]",
      "text/plain": [
       "<Figure size 1000x300 with 5 Axes>"
      ]
     },
     "metadata": {},
     "output_type": "display_data"
    }
   ],
   "source": [
    "# Display some images with labels\n",
    "fig, axes = plt.subplots(1, 5, figsize=(10, 3))\n",
    "for i, ax in enumerate(axes):\n",
    "    ax.imshow(x_train[i], cmap='gray')\n",
    "    ax.set_title(f\"Label: {y_train[i]}\")\n",
    "    ax.axis(\"off\")\n",
    "plt.show()"
   ]
  },
  {
   "cell_type": "markdown",
   "metadata": {
    "id": "hpChqoPUNapG"
   },
   "source": [
    "## 2. Preprocess the data\n",
    "\n",
    "### 2.1 Data Normalization\r\n",
    "\r\n",
    "Pixel values in the MNIST dataset range from **0 to 255** (grayscale intensity).  \r\n",
    "To improve model performance and training stability, we scale the values to a **0-1 range** by dividing by 255.  \r\n",
    "This helps neural networks converge faster and perform bettCode:\r\n"
   ]
  },
  {
   "cell_type": "code",
   "execution_count": 13,
   "metadata": {
    "id": "24xRNwvlNj7p"
   },
   "outputs": [],
   "source": [
    "# Next, we'll preprocess the data by scaling it to a range of 0-1\n",
    "x_train = x_train / 255.0\n",
    "x_test = x_test / 255.0"
   ]
  },
  {
   "cell_type": "markdown",
   "metadata": {
    "id": "7nzxb4piNmCS"
   },
   "source": [
    "### 2.2 Split the dataset in train, validation and test dataset\n",
    "\r\n",
    "To fine-tune our model, we split the dataset into three parts:  \r\n",
    "\r\n",
    "- **Training set**: Used to train the model (remaining 55,000 images).  \r\n",
    "- **Validation set**: A small subset (5,000 images) used to evaluate performance during training and adjust hyperparameters.  \r\n",
    "- **Test set**: Separate (10,000 images) used for final model evaluation.\r\n",
    "\r\n",
    "We extract the first **5,000 images** from the training set for validation and keep the rest for training."
   ]
  },
  {
   "cell_type": "code",
   "execution_count": 15,
   "metadata": {
    "id": "PeX1m04qNxlv"
   },
   "outputs": [],
   "source": [
    "# now, we will split the dataset in train, validation and test dataset\n",
    "x_val = x_train[:5000] # validation dataset\n",
    "x_train = x_train[5000:] # train dataset\n",
    "y_val = y_train[:5000] # validation labels\n",
    "y_train = y_train[5000:] # train labels"
   ]
  },
  {
   "cell_type": "markdown",
   "metadata": {
    "id": "g0MFxOOlN1DG"
   },
   "source": [
    "## 3. Build Neural Network \n",
    "\n",
    "\r\n",
    "We use a **Sequential** model, which stacks layers in order. The architecture consists of:\r\n",
    "\r\n",
    "1. **Flatten Layer**: Converts the **28×28** image into a **1D array of 784 values**, making it suitable for a fully connected network.  \r\n",
    "2. **Dense Layer (Hidden Layer)**: A fully connected layer with **128 neurons** and **ReLU activation**, which helps learn complex patterns.  \r\n",
    "3. **Output Layer**: A **Dense layer with 10 neurons** (one for each digit 0-9) and **softmax activation**, which outputs class proities of babilhandwritten digCode:\r\n"
   ]
  },
  {
   "cell_type": "markdown",
   "metadata": {},
   "source": [
    "## Understanding the Neural Network Architecture\n",
    "\n",
    "Our model follows a **feedforward neural network** structure with three key layers. Each plays a crucial role in transforming the input data into meaningful predictions.\n",
    "\n",
    "### 1. **Flatten Layer (`Flatten(input_shape=(28, 28))`)**  \n",
    "   - **Role**: Converts the **2D (28×28)** image into a **1D (784 values)** array.  \n",
    "   - **Intuition**: Fully connected (Dense) layers require a 1D input, so we reshape the pixel grid into a single vector while preserving the pixel values.\n",
    "\n",
    "### 2. **Hidden Dense Layer (`Dense(128, activation='relu')`)**  \n",
    "   - **Role**: A fully connected layer with **128 neurons** that learns hierarchical features.  \n",
    "   - **Intuition**:  \n",
    "     - Each neuron processes different aspects of the input.  \n",
    "     - The **ReLU activation function (`max(0, x)`)** introduces non-linearity, helping the model learn complex patterns.  \n",
    "     - The number **128** is a hyperparameter that can be adjusted for performance.\n",
    "\n",
    "### 3. **Output Layer (`Dense(10, activation='softmax')`)**  \n",
    "   - **Role**: Produces the final classification output with **10 neurons** (one per digit).  \n",
    "   - **Intuition**:  \n",
    "     - Each neuron corresponds to a digit (0-9).  \n",
    "     - The **softmax activation function** converts raw scores into **probabilities**, ensuring that the outputs sum to 1.  \n",
    "     - The model predicts the class with the highest probability.\n",
    "\n"
   ]
  },
  {
   "cell_type": "code",
   "execution_count": 18,
   "metadata": {
    "id": "B3UDlbDMOHX0"
   },
   "outputs": [
    {
     "name": "stderr",
     "output_type": "stream",
     "text": [
      "C:\\Users\\evisp\\anaconda3\\Lib\\site-packages\\keras\\src\\layers\\reshaping\\flatten.py:37: UserWarning: Do not pass an `input_shape`/`input_dim` argument to a layer. When using Sequential models, prefer using an `Input(shape)` object as the first layer in the model instead.\n",
      "  super().__init__(**kwargs)\n"
     ]
    }
   ],
   "source": [
    "# Now, let's define our neural network model\n",
    "model = keras.Sequential([\n",
    "    keras.layers.Flatten(input_shape=(28, 28)),  # flatten the image to 1D array\n",
    "    keras.layers.Dense(128, activation='relu'),  # first dense layer with 128 neurons and relu activation\n",
    "    keras.layers.Dense(10, activation='softmax') # output layer with 10 neurons (one for each class) and softmax activation\n",
    "])"
   ]
  },
  {
   "cell_type": "code",
   "execution_count": 19,
   "metadata": {},
   "outputs": [
    {
     "data": {
      "text/html": [
       "<pre style=\"white-space:pre;overflow-x:auto;line-height:normal;font-family:Menlo,'DejaVu Sans Mono',consolas,'Courier New',monospace\"><span style=\"font-weight: bold\">Model: \"sequential\"</span>\n",
       "</pre>\n"
      ],
      "text/plain": [
       "\u001b[1mModel: \"sequential\"\u001b[0m\n"
      ]
     },
     "metadata": {},
     "output_type": "display_data"
    },
    {
     "data": {
      "text/html": [
       "<pre style=\"white-space:pre;overflow-x:auto;line-height:normal;font-family:Menlo,'DejaVu Sans Mono',consolas,'Courier New',monospace\">┏━━━━━━━━━━━━━━━━━━━━━━━━━━━━━━━━━━━━━━┳━━━━━━━━━━━━━━━━━━━━━━━━━━━━━┳━━━━━━━━━━━━━━━━━┓\n",
       "┃<span style=\"font-weight: bold\"> Layer (type)                         </span>┃<span style=\"font-weight: bold\"> Output Shape                </span>┃<span style=\"font-weight: bold\">         Param # </span>┃\n",
       "┡━━━━━━━━━━━━━━━━━━━━━━━━━━━━━━━━━━━━━━╇━━━━━━━━━━━━━━━━━━━━━━━━━━━━━╇━━━━━━━━━━━━━━━━━┩\n",
       "│ flatten (<span style=\"color: #0087ff; text-decoration-color: #0087ff\">Flatten</span>)                    │ (<span style=\"color: #00d7ff; text-decoration-color: #00d7ff\">None</span>, <span style=\"color: #00af00; text-decoration-color: #00af00\">784</span>)                 │               <span style=\"color: #00af00; text-decoration-color: #00af00\">0</span> │\n",
       "├──────────────────────────────────────┼─────────────────────────────┼─────────────────┤\n",
       "│ dense (<span style=\"color: #0087ff; text-decoration-color: #0087ff\">Dense</span>)                        │ (<span style=\"color: #00d7ff; text-decoration-color: #00d7ff\">None</span>, <span style=\"color: #00af00; text-decoration-color: #00af00\">128</span>)                 │         <span style=\"color: #00af00; text-decoration-color: #00af00\">100,480</span> │\n",
       "├──────────────────────────────────────┼─────────────────────────────┼─────────────────┤\n",
       "│ dense_1 (<span style=\"color: #0087ff; text-decoration-color: #0087ff\">Dense</span>)                      │ (<span style=\"color: #00d7ff; text-decoration-color: #00d7ff\">None</span>, <span style=\"color: #00af00; text-decoration-color: #00af00\">10</span>)                  │           <span style=\"color: #00af00; text-decoration-color: #00af00\">1,290</span> │\n",
       "└──────────────────────────────────────┴─────────────────────────────┴─────────────────┘\n",
       "</pre>\n"
      ],
      "text/plain": [
       "┏━━━━━━━━━━━━━━━━━━━━━━━━━━━━━━━━━━━━━━┳━━━━━━━━━━━━━━━━━━━━━━━━━━━━━┳━━━━━━━━━━━━━━━━━┓\n",
       "┃\u001b[1m \u001b[0m\u001b[1mLayer (type)                        \u001b[0m\u001b[1m \u001b[0m┃\u001b[1m \u001b[0m\u001b[1mOutput Shape               \u001b[0m\u001b[1m \u001b[0m┃\u001b[1m \u001b[0m\u001b[1m        Param #\u001b[0m\u001b[1m \u001b[0m┃\n",
       "┡━━━━━━━━━━━━━━━━━━━━━━━━━━━━━━━━━━━━━━╇━━━━━━━━━━━━━━━━━━━━━━━━━━━━━╇━━━━━━━━━━━━━━━━━┩\n",
       "│ flatten (\u001b[38;5;33mFlatten\u001b[0m)                    │ (\u001b[38;5;45mNone\u001b[0m, \u001b[38;5;34m784\u001b[0m)                 │               \u001b[38;5;34m0\u001b[0m │\n",
       "├──────────────────────────────────────┼─────────────────────────────┼─────────────────┤\n",
       "│ dense (\u001b[38;5;33mDense\u001b[0m)                        │ (\u001b[38;5;45mNone\u001b[0m, \u001b[38;5;34m128\u001b[0m)                 │         \u001b[38;5;34m100,480\u001b[0m │\n",
       "├──────────────────────────────────────┼─────────────────────────────┼─────────────────┤\n",
       "│ dense_1 (\u001b[38;5;33mDense\u001b[0m)                      │ (\u001b[38;5;45mNone\u001b[0m, \u001b[38;5;34m10\u001b[0m)                  │           \u001b[38;5;34m1,290\u001b[0m │\n",
       "└──────────────────────────────────────┴─────────────────────────────┴─────────────────┘\n"
      ]
     },
     "metadata": {},
     "output_type": "display_data"
    },
    {
     "data": {
      "text/html": [
       "<pre style=\"white-space:pre;overflow-x:auto;line-height:normal;font-family:Menlo,'DejaVu Sans Mono',consolas,'Courier New',monospace\"><span style=\"font-weight: bold\"> Total params: </span><span style=\"color: #00af00; text-decoration-color: #00af00\">101,770</span> (397.54 KB)\n",
       "</pre>\n"
      ],
      "text/plain": [
       "\u001b[1m Total params: \u001b[0m\u001b[38;5;34m101,770\u001b[0m (397.54 KB)\n"
      ]
     },
     "metadata": {},
     "output_type": "display_data"
    },
    {
     "data": {
      "text/html": [
       "<pre style=\"white-space:pre;overflow-x:auto;line-height:normal;font-family:Menlo,'DejaVu Sans Mono',consolas,'Courier New',monospace\"><span style=\"font-weight: bold\"> Trainable params: </span><span style=\"color: #00af00; text-decoration-color: #00af00\">101,770</span> (397.54 KB)\n",
       "</pre>\n"
      ],
      "text/plain": [
       "\u001b[1m Trainable params: \u001b[0m\u001b[38;5;34m101,770\u001b[0m (397.54 KB)\n"
      ]
     },
     "metadata": {},
     "output_type": "display_data"
    },
    {
     "data": {
      "text/html": [
       "<pre style=\"white-space:pre;overflow-x:auto;line-height:normal;font-family:Menlo,'DejaVu Sans Mono',consolas,'Courier New',monospace\"><span style=\"font-weight: bold\"> Non-trainable params: </span><span style=\"color: #00af00; text-decoration-color: #00af00\">0</span> (0.00 B)\n",
       "</pre>\n"
      ],
      "text/plain": [
       "\u001b[1m Non-trainable params: \u001b[0m\u001b[38;5;34m0\u001b[0m (0.00 B)\n"
      ]
     },
     "metadata": {},
     "output_type": "display_data"
    }
   ],
   "source": [
    "model.summary()"
   ]
  },
  {
   "cell_type": "markdown",
   "metadata": {
    "id": "zsWa5wpEOJJb"
   },
   "source": [
    "## 4. Compile the model\n",
    "\n",
    "\r\n",
    "Before training, we need to **compile** the model by specifying:\r\n",
    "\r\n",
    "1. **Optimizer (`adam`)**  \r\n",
    "   - **Role**: Adjusts model weights to minimize errors during training.  \r\n",
    "   - **Why Adam?** Combines momentum and adaptive learning rates for **efficient** and **robust** optimization.  \r\n",
    "\r\n",
    "2. **Loss Function (`sparse_categorical_crossentropy`)**  \r\n",
    "   - **Role**: Measures the difference between predicted probabilities and actual labels.  \r\n",
    "   - **Why Sparse?** Suitable for integer labels (0-9) instead of one-hot encoding.  \r\n",
    "\r\n",
    "3. **Evaluation Metric (`accuracy`)**  \r\n",
    "   - **Role**: Tracks how often predictions match the tpilation Code:\r\n"
   ]
  },
  {
   "cell_type": "code",
   "execution_count": 21,
   "metadata": {
    "id": "GQ2xSoaSOUk1"
   },
   "outputs": [],
   "source": [
    "# Now, let's compile the model\n",
    "model.compile(optimizer='adam',\n",
    "              loss='sparse_categorical_crossentropy',\n",
    "              metrics=['accuracy'])"
   ]
  },
  {
   "cell_type": "markdown",
   "metadata": {
    "id": "VRrolM9iOWgo"
   },
   "source": [
    "## 5. Train the model\n",
    "\n",
    "\r\n",
    "To train the model, we use the **`fit`** method, which performs the following:\r\n",
    "\r\n",
    "1. **Training Data (`x_train`, `y_train`)**  \r\n",
    "   - The input images and corresponding labels used for model training.\r\n",
    "\r\n",
    "2. **Epochs (`epochs=5`)**  \r\n",
    "   - The number of times the entire training dataset is passed through the model.  \r\n",
    "   - In this case, we train the model for **5 epochs**, allowing the model to learn and improve iteratively.\r\n",
    "\r\n",
    "3. **Validation Data (`validation_data=(x_val, y_val)`)**  \r\n",
    "   - A separate dataset used to evaluate the model after each epoch, helping monitor **overfitting**.\r\n",
    "\r\n",
    "4. **History**  \r\n",
    "   - The **`history`** object stores training and validation metrics (like loss and accuracy) for later analysis or # Training Code:\r\n"
   ]
  },
  {
   "cell_type": "code",
   "execution_count": null,
   "metadata": {
    "colab": {
     "base_uri": "https://localhost:8080/"
    },
    "id": "jBvPQHZwOfKd",
    "outputId": "07965b0c-e407-437e-f5e4-e5bfcdc5a419"
   },
   "outputs": [
    {
     "name": "stdout",
     "output_type": "stream",
     "text": [
      "Epoch 1/5\n",
      "\u001b[1m1719/1719\u001b[0m \u001b[32m━━━━━━━━━━━━━━━━━━━━\u001b[0m\u001b[37m\u001b[0m \u001b[1m10s\u001b[0m 5ms/step - accuracy: 0.8758 - loss: 0.4369 - val_accuracy: 0.9620 - val_loss: 0.1385\n",
      "Epoch 2/5\n",
      "\u001b[1m1719/1719\u001b[0m \u001b[32m━━━━━━━━━━━━━━━━━━━━\u001b[0m\u001b[37m\u001b[0m \u001b[1m8s\u001b[0m 5ms/step - accuracy: 0.9636 - loss: 0.1262 - val_accuracy: 0.9660 - val_loss: 0.1097\n",
      "Epoch 3/5\n",
      "\u001b[1m 423/1719\u001b[0m \u001b[32m━━━━\u001b[0m\u001b[37m━━━━━━━━━━━━━━━━\u001b[0m \u001b[1m5s\u001b[0m 4ms/step - accuracy: 0.9783 - loss: 0.0799"
     ]
    }
   ],
   "source": [
    "# Now, let's train the model, and also save the history of training and validation\n",
    "history = model.fit(x_train, y_train, epochs=5, validation_data=(x_val, y_val))"
   ]
  },
  {
   "cell_type": "markdown",
   "metadata": {
    "id": "UXujCeLfOp85"
   },
   "source": [
    "## 6. Evaluating the Model\r\n",
    "\r\n",
    "After training, we evaluate the model on the **test set** to determine how well it generalizes to unseen data.\r\n",
    "\r\n",
    "1. **Test Data (`x_test`, `y_test`)**  \r\n",
    "   - The **test set** is used to assess the model's performance after training, ensuring the model isn't overfitting to the training data.\r\n",
    "\r\n",
    "2. **Test Loss and Accuracy**  \r\n",
    "   - **Loss**: Measures the error between predicted and true labels on the test data.  \r\n",
    "   - **Accuracy**: Indicates the proportion of correct predictions made by ttion Code:\r\n"
   ]
  },
  {
   "cell_type": "code",
   "execution_count": null,
   "metadata": {
    "colab": {
     "base_uri": "https://localhost:8080/"
    },
    "id": "fyPS4ausOzBF",
    "outputId": "64a0363b-beca-491c-ce7c-d00787ab41e3"
   },
   "outputs": [],
   "source": [
    "# Now, let's evaluate the model on the test set\n",
    "test_loss, test_acc = model.evaluate(x_test, y_test)\n",
    "print('Test accuracy:', test_acc)"
   ]
  },
  {
   "cell_type": "markdown",
   "metadata": {
    "id": "xJo9gNOmO2Tq"
   },
   "source": [
    "## Visualize data\n",
    "- use `matplotlib.pyplot` to plot the training and validation accuracy and loss\n",
    "- display the number of epochs and the accuracy"
   ]
  },
  {
   "cell_type": "code",
   "execution_count": null,
   "metadata": {
    "colab": {
     "base_uri": "https://localhost:8080/",
     "height": 295
    },
    "id": "A3vtLQWoPC-i",
    "outputId": "45a625bc-67da-4e18-bb48-26969a4dc849"
   },
   "outputs": [],
   "source": [
    "# Now, let's plot the training and validation accuracy and loss\n",
    "plt.plot(history.history['accuracy'])\n",
    "plt.plot(history.history['val_accuracy'])\n",
    "plt.title('Model accuracy')\n",
    "plt.ylabel('Accuracy')\n",
    "plt.xlabel('Epoch')\n",
    "plt.legend(['Train', 'Validation'], loc='upper left')\n",
    "plt.show()"
   ]
  },
  {
   "cell_type": "code",
   "execution_count": null,
   "metadata": {
    "colab": {
     "base_uri": "https://localhost:8080/",
     "height": 799
    },
    "id": "1Zvph2fLte6h",
    "outputId": "2e36f49d-6ec5-40d9-f2df-c3b54d510778"
   },
   "outputs": [],
   "source": [
    "plt.plot(history.history['loss'])\n",
    "plt.plot(history.history['val_loss'])\n",
    "plt.title('Model loss')\n",
    "plt.ylabel('Loss')\n",
    "plt.xlabel('Epoch')\n",
    "plt.legend(['Train', 'Validation'], loc='upper left')\n",
    "plt.show\n"
   ]
  },
  {
   "cell_type": "markdown",
   "metadata": {},
   "source": [
    "## Confusion Matrix\n",
    "\n",
    "A **confusion matrix** helps to visualize the performance of the model by showing the actual versus predicted classifications. It provides insights into which digits the model struggles with.\n",
    "\n",
    "- **Diagonal elements** represent correct predictions.\n",
    "- **Off-diagonal elements** show misclassifications.\n",
    "\n",
    "We will generate the confusion matrix using `sklearn.metrics.confusion_matrix`, which compares the predicted labels with the true labels.\n"
   ]
  },
  {
   "cell_type": "code",
   "execution_count": null,
   "metadata": {},
   "outputs": [],
   "source": [
    "import numpy as np\n",
    "from sklearn.metrics import confusion_matrix\n",
    "import seaborn as sns\n",
    "\n",
    "# Make predictions on the test set\n",
    "y_pred = np.argmax(model.predict(x_test), axis=-1)\n",
    "\n",
    "# Compute the confusion matrix\n",
    "cm = confusion_matrix(y_test, y_pred)\n",
    "\n",
    "# Plot the confusion matrix\n",
    "plt.figure(figsize=(10, 7))\n",
    "sns.heatmap(cm, annot=True, fmt='d', cmap='Blues', xticklabels=np.arange(10), yticklabels=np.arange(10))\n",
    "plt.xlabel('Predicted')\n",
    "plt.ylabel('True')\n",
    "plt.title('Confusion Matrix')\n",
    "plt.show()\n"
   ]
  },
  {
   "cell_type": "markdown",
   "metadata": {
    "id": "PbEOCZu9PF9Y"
   },
   "source": [
    "## Visualize the classification of several images\n",
    "- select 20 images at random from the entire dataset\n",
    "- visualize the images alongside their labels in a grid-like plot"
   ]
  },
  {
   "cell_type": "code",
   "execution_count": null,
   "metadata": {
    "colab": {
     "base_uri": "https://localhost:8080/",
     "height": 482
    },
    "id": "4dnGpQviu7gS",
    "outputId": "c6b7a11a-f1f1-4c79-c60f-c83943fffaba"
   },
   "outputs": [],
   "source": [
    "import numpy as np\n",
    "random_indices = np.random.randint(0, len(x_train), 20)\n",
    "random_images = x_train[random_indices]\n",
    "random_labels = y_train[random_indices]\n",
    "\n",
    "fix, axes = plt.subplots(4, 5, figsize=(10, 8))\n",
    "axes = axes.ravel()\n",
    "\n",
    "for i, ax in enumerate(axes):\n",
    "  ax.imshow(random_images[i], cmap='gray')\n",
    "  ax.axis(\"off\")\n",
    "  ax.set_title(str(random_labels[i]))\n",
    "\n",
    "plt.subplots_adjust(hspace=0.5)\n",
    "plt.show()"
   ]
  },
  {
   "cell_type": "markdown",
   "metadata": {
    "id": "Tk4oazStPWq9"
   },
   "source": [
    "## Congrats on building your (first) neural network"
   ]
  }
 ],
 "metadata": {
  "colab": {
   "provenance": []
  },
  "kernelspec": {
   "display_name": "Python 3 (ipykernel)",
   "language": "python",
   "name": "python3"
  },
  "language_info": {
   "codemirror_mode": {
    "name": "ipython",
    "version": 3
   },
   "file_extension": ".py",
   "mimetype": "text/x-python",
   "name": "python",
   "nbconvert_exporter": "python",
   "pygments_lexer": "ipython3",
   "version": "3.12.4"
  }
 },
 "nbformat": 4,
 "nbformat_minor": 4
}
