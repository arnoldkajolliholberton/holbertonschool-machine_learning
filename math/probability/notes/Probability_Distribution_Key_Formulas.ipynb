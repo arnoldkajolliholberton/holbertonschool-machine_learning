{
  "cells": [
    {
      "cell_type": "markdown",
      "id": "f5b46afd",
      "metadata": {
        "id": "f5b46afd"
      },
      "source": [
        "<img src=\"../holberton_logo.png\" alt=\"logo\" width=\"500\"/>\n",
        "\n",
        "# Probability\n",
        "\n",
        "## Poisson distribution\n",
        "\n",
        "The Poisson distribution can be used to calculate the probabilities of various numbers of \"successes\" based on the mean number of successes. In order to apply the Poisson distribution, the various events must be independent.\n",
        "\n",
        "### Poisson PMF\n",
        "$$\n",
        "f(x, \\mu) = p = \\frac{e^{-\\mu}\\cdot \\mu^x}{x!}\n",
        "$$\n",
        "\n",
        "where\n",
        "\n",
        "- $e$ is the base of natural logarithms (2.7183)\n",
        "- $\\mu$ is the mean number of \"successes\"\n",
        "- $x$ is the number of \"successes\" in question\n",
        "\n",
        "### Poisson CDF\n",
        "\n",
        "$$\n",
        "F(x, \\mu) = \\Sigma_{k=0}^x(\\frac{e^{-\\mu}\\cdot \\mu^x}{x!})\n",
        "$$\n"
      ]
    },
    {
      "cell_type": "markdown",
      "id": "e00b1c20",
      "metadata": {
        "id": "e00b1c20"
      },
      "source": [
        "\n",
        "## Exponential distribution\n",
        "\n",
        "In probability theory, the exponential distribution is defined as the probability distribution of time between events in the Poisson point process\n",
        "\n",
        "### Exponential PDF\n",
        "$$\n",
        "f(x) = \\lambda \\cdot (e^{-\\lambda \\cdot x})\n",
        "$$\n",
        "\n",
        "### Exponential CDF\n",
        "\n",
        "$$\n",
        "P (X \\leq x) = 1 - (e^{-\\lambda \\cdot x})\n",
        "$$\n",
        "\n",
        "### Class implementation\n",
        "\n",
        "- The rate parameter `lambda` for the Exponential Distribution can be estimated from data using the formula: $\\lambda = \\frac{1}{\\mu}$  where $\\mu$ is the sample mean of the observed data.\n",
        "\n",
        "\n",
        "- The PDF is a function that describes the relative likelihood of observing a given time between events, for a specific value of the rate parameter lambda.The method then calculates the value of the PDF for the given time period x using the formula for the Exponential Distribution PDF:\n",
        " $PDF(x) = \\lambda \\cdot e^{(-\\lambda \\cdot x)}$\n",
        "\n",
        "\n",
        "- The CDF is a function that describes the probability that a random variable from the distribution is less than or equal to a certain value. The method then calculates the value of the CDF for the given time period x using the formula for the Exponential Distribution CDF:\n",
        "$CDF(x) = 1 - e^{(-\\lambda \\cdot x)}$"
      ]
    },
    {
      "cell_type": "markdown",
      "id": "7e98713f",
      "metadata": {
        "id": "7e98713f"
      },
      "source": [
        "## Normal distribution\n",
        "\n",
        "The normal distribution describes a symmetrical plot of data around its mean value, where the width of the curve is defined by the standard deviation\n",
        "\n",
        "### Z-Score\n",
        "The z-score in the Normal Distribution, also known as the standard score or standardized value, is a measure of how many standard deviations a data point is away from the mean. It is a dimensionless quantity that allows us to compare data points on a standardized scale.\n",
        "\n",
        "$$\n",
        "z = \\frac{x - \\mu}{\\sigma}\n",
        "$$\n",
        "\n",
        "If the z-score is positive, it means that the data point is above the mean, and if the z-score is negative, it means that the data point is below the mean. The magnitude of the z-score indicates how far away the data point is from the mean in terms of standard deviations.\n",
        "\n",
        "### Value given Z-Score\n",
        "\n",
        "The notion of value given the z-score in Normal Distribution refers to the original data value that corresponds to a specific z-score. The value can be calculated by using the formula for the z-score and solving for the original data value.\n",
        "\n",
        "$$\n",
        "x = z \\cdot \\sigma + \\mu\n",
        "$$\n",
        "\n",
        "### Normal PDF\n",
        "\n",
        "The Probability Density Function (PDF) in Normal Distribution describes the relative likelihood of a continuous random variable to take on a particular value or range of values. The PDF of the Normal Distribution is a bell-shaped curve that is symmetrical around its mean value, with the majority of data points clustered around the mean.\n",
        "\n",
        "$$\n",
        "PDF(x) = \\frac{1}{\\sigma\\cdot\\sqrt{2\\pi}}e^{-\\frac{{(x - \\mu)}^2}{2\\sigma^2}}\n",
        "$$\n",
        "\n",
        "The height of the PDF curve at any given point represents the density of probability mass at that point. Areas under the curve represent probabilities, with the total area under the curve equal to 1. The PDF is a continuous function, and the probability of a single point having a specific value is zero.\n",
        "\n",
        "### Normal CDF\n",
        "\n",
        "The Cumulative Distribution Function (CDF) for a Normal Distribution is a function that describes the probability that a random variable `X` will take on a value less than or equal to a specified value `x`. The CDF of a Normal Distribution is a continuous, cumulative function that ranges from `0` to `1`.\n",
        "\n",
        "$$\n",
        "CDF(x) = \\frac{1}{2} \\cdot [1 + erf(\\frac{(x - \\mu)}{(\\sigma\\cdot\\sqrt{2})})]\n",
        "$$\n",
        "\n",
        "The CDF is a useful tool for calculating probabilities and making statistical inferences about data that follow a Normal Distribution. For example, if we want to know the probability that a random variable `X` is less than or equal to a specific value `x`, we can use the CDF to calculate this probability.\n",
        "\n",
        "### Class implementation"
      ]
    },
    {
      "cell_type": "markdown",
      "id": "f5b2b187",
      "metadata": {
        "id": "f5b2b187"
      },
      "source": [
        "### Explanation on how to calculate CDF\n",
        "\n",
        "This code defines a method cdf that calculates the cumulative distribution function (`CDF`) value for a given `x` value, based on the mean and standard deviation of a normal distribution.\n",
        "\n",
        "The calculation of the CDF value involves computing the error function (`erf`) of a normalized input value\n",
        "$\n",
        "\\frac{x - \\mu}{\\sigma \\cdot \\sqrt{2}}\n",
        "$\n",
        "\n",
        "The `erf` is then multiplied by\n",
        "$\n",
        "\\frac{2}{(\\sqrt{\\pi})}\n",
        "$\n",
        "to scale it properly, and added to `1` to get the CDF value.\n",
        "\n",
        "The error function is computed using a truncated `Taylor series approximation`, which is a common way to approximate the `erf` function. The numbers used in the calculation are constants that are used in the Taylor series expansion and come from mathematical calculations. The value of `pi` used is an approximation of the mathematical constant `pi` to the precision required for this calculation.\n",
        "\n",
        "The Taylor series expansion used in this code to approximate the error function is:\n",
        "\n",
        "$$\n",
        "erf(x) = \\frac{2}{\\sqrt(\\pi)} \\cdot \\Sigma_{k=0}^{\\infty} (\\frac{(-1)^k \\cdot x^{2k+1}}{k! \\cdot (2k+1)})\n",
        "$$\n",
        "\n",
        "\n",
        "This formula expresses the error function as an infinite series of terms that involve increasing powers of x. However, in practice, only the first few terms are usually needed to obtain an accurate approximation.\n",
        "\n",
        "The Taylor series expansion used in this code only includes the first four terms of this series:\n",
        "\n",
        "$$\n",
        "erf(x) = x - \\frac{x^3}{3} + \\frac{x^5}{10} - \\frac{x^7}{42} + \\frac{x^9}{216}\n",
        "$$\n",
        "\n",
        "This truncated series is a commonly used approximation for the error function, and is accurate for a wide range of values of x. The values of the constants used in the formula come from mathematical calculations and are used to adjust and scale the result of this series approximation to obtain the CDF value.\n",
        "\n"
      ]
    },
    {
      "cell_type": "markdown",
      "id": "9ff32635",
      "metadata": {
        "id": "9ff32635"
      },
      "source": [
        "## Binomail distribution\n",
        "\n",
        "The binomial distribution is a probability distribution that describes the number of successes in a fixed number of independent trials, where each trial has only two possible outcomes (success or failure). The distribution is characterized by two parameters: the probability of success on a single trial (p) and the number of trials (n). The distribution is often used to model real-world scenarios such as coin tosses, election outcomes, and product defects.\n",
        "\n",
        "### Binomial PDF\n",
        "\n",
        "$$\n",
        "f(k;n,p)= {n \\choose k} p^k \\cdot (1 - p)^{n-k}\n",
        "$$\n",
        "\n",
        "where\n",
        "\n",
        "$${n \\choose k} = \\frac{n!}{k!(n-k)!}$$.\n",
        "\n",
        "### Binomial CDF\n",
        "\n",
        "$$\n",
        "F(k;n,p)= \\Sigma_{i=0}^k{n \\choose k} p^k \\cdot (1 - p)^{n-k}\n",
        "$$\n",
        "\n"
      ]
    },
    {
      "cell_type": "markdown",
      "id": "df0c79cc",
      "metadata": {
        "id": "df0c79cc"
      },
      "source": [
        "## The end"
      ]
    }
  ],
  "metadata": {
    "kernelspec": {
      "display_name": "Python 3 (ipykernel)",
      "language": "python",
      "name": "python3"
    },
    "language_info": {
      "codemirror_mode": {
        "name": "ipython",
        "version": 3
      },
      "file_extension": ".py",
      "mimetype": "text/x-python",
      "name": "python",
      "nbconvert_exporter": "python",
      "pygments_lexer": "ipython3",
      "version": "3.9.12"
    },
    "colab": {
      "provenance": []
    }
  },
  "nbformat": 4,
  "nbformat_minor": 5
}