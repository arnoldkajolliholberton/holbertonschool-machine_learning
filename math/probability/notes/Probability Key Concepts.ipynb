{
 "cells": [
  {
   "cell_type": "markdown",
   "id": "0f5e0b0a",
   "metadata": {},
   "source": [
    "<img src=\"../../../figs/holberton_logo.png\" alt=\"logo\" width=\"500\"/>\n",
    "\n",
    "# Probability\n",
    "\n",
    "Probability is a measure of the likelihood or chance of an event occurring. In machine learning, probability is used to model uncertainty and make predictions based on incomplete or noisy data. Probability theory provides a mathematical framework for analyzing the behavior of random variables and their relationships to one another.\n",
    "\n",
    "## Key concepts\n",
    "\n",
    "- **random variable**: A random variable is a variable whose value is determined by chance or randomness. It is often denoted by a capital letter, such as `X` or `Y`, and can take on different values with a certain probability.\n",
    "\n",
    "\n",
    "- **Probability of an event**: $0 \\leq P(A) \\leq 1$, i.e., the probability of any event `A` is a non-negative number between `0` and `1`, inclusive\n",
    "\n",
    "\n",
    "- **Probability of a certain event**: The probability of the entire sample space `S` is `1`. That is, `P(S) = 1`\n",
    "\n",
    "\n",
    "- **probability distribution**: A probability distribution is a function that describes the likelihood of different outcomes of a random variable. It specifies the probability of each possible value that the random variable can take on\n",
    "    -  A uniform distribution is a type of probability distribution where every possible outcome has an equal probability of occurring."
   ]
  },
  {
   "cell_type": "markdown",
   "id": "44ad5300",
   "metadata": {},
   "source": [
    "## Sample Code\n",
    "\n",
    "### Probability of an Event\n",
    "\n",
    "Below we generate sample data from a uniform distribution and calculate the probability of an event. In particular, this code generates a sample of random data from a uniform distribution, calculates the probability that the value is greater than `0.5`, and prints the result."
   ]
  },
  {
   "cell_type": "code",
   "execution_count": 5,
   "id": "db69959a",
   "metadata": {},
   "outputs": [
    {
     "name": "stdout",
     "output_type": "stream",
     "text": [
      "Probability: 0.49939\n"
     ]
    }
   ],
   "source": [
    "import numpy as np\n",
    "\n",
    "# Generate a sample of random data from a uniform distribution\n",
    "s = np.random.uniform(0, 1, 100000)\n",
    "# Calculate the probability that the value is greater than 0.5\n",
    "p = np.sum(s > 0.5)/len(s)\n",
    "\n",
    "# Print the result\n",
    "print(\"Probability:\", p)"
   ]
  },
  {
   "cell_type": "markdown",
   "id": "a33e374f",
   "metadata": {},
   "source": [
    "### Probability of Events A and B occurring\n",
    "\n",
    "This code generates a sample of random data from a normal distribution, calculates the probability that the value is between `0` and `0.5` and between `-0.5` and `0`, calculates the probability that Events `A` and `B` occur, and prints the result."
   ]
  },
  {
   "cell_type": "code",
   "execution_count": 8,
   "id": "cb880286",
   "metadata": {},
   "outputs": [
    {
     "name": "stdout",
     "output_type": "stream",
     "text": [
      "Probability of A and B: 0.2496\n"
     ]
    }
   ],
   "source": [
    "# Generate a sample of random data from a normal distribution\n",
    "mu, sigma = 0, 0.1 # mean and standard deviation\n",
    "s = np.random.normal(mu, sigma, 1000)\n",
    "\n",
    "# Calculate the probability that the value is between 0 and 0.5 and between -0.5 and 0\n",
    "p_a = np.sum((s > 0) & (s < 0.5))/len(s)\n",
    "p_b = np.sum((s > -0.5) & (s < 0))/len(s)\n",
    "\n",
    "# Calculate the probability that Events A and B occur\n",
    "p_a_and_b = p_a * p_b\n",
    "\n",
    "# Print the result\n",
    "print(\"Probability of A and B:\", p_a_and_b)"
   ]
  },
  {
   "cell_type": "markdown",
   "id": "5e4ffedf",
   "metadata": {},
   "source": [
    "### Conditional Probability\n",
    "\n",
    "This code generates a sample of random data from a normal distribution, calculates the probability that the value is greater than `0.5` or less than `-0.5`, and calculates the conditional probability that the value is greater than `0.5` given that it is greater than `0.2`."
   ]
  },
  {
   "cell_type": "code",
   "execution_count": 3,
   "id": "ab6e8f01",
   "metadata": {},
   "outputs": [
    {
     "name": "stdout",
     "output_type": "stream",
     "text": [
      "Probability of A or B: 0.609\n",
      "Conditional probability of B given A: 0.7302325581395349\n"
     ]
    }
   ],
   "source": [
    "import numpy as np\n",
    "\n",
    "# Generate a sample of random data from a normal distribution\n",
    "mu, sigma = 0, 1 # mean and standard deviation\n",
    "s = np.random.normal(mu, sigma, 1000)\n",
    "\n",
    "# Calculate the probability that the value is greater than 0.5 or less than -0.5\n",
    "p_a = np.sum((s > 0.5) | (s < -0.5))/len(s)\n",
    "\n",
    "# Calculate the conditional probability that the value is greater than 0.5 given that it is less than 0.2\n",
    "p_b_given_a = np.sum((s > 0.5) & (s > 0.2))/np.sum(s > 0.2)\n",
    "\n",
    "# Print the results\n",
    "print(\"Probability of A or B:\", p_a)\n",
    "print(\"Conditional probability of B given A:\", p_b_given_a)\n"
   ]
  },
  {
   "cell_type": "markdown",
   "id": "73c795e0",
   "metadata": {},
   "source": [
    "### Generate sample data from a random distribution"
   ]
  },
  {
   "cell_type": "code",
   "execution_count": 13,
   "id": "b7727d73",
   "metadata": {},
   "outputs": [
    {
     "name": "stdout",
     "output_type": "stream",
     "text": [
      "Mean: 0.0011209139914436232\n",
      "Variance: 0.010197488176462313\n"
     ]
    }
   ],
   "source": [
    "import numpy as np\n",
    "import matplotlib.pyplot as plt\n",
    "\n",
    "# Generate a sample of random data from a normal distribution\n",
    "mu, sigma = 0, 0.1 # mean and standard deviation\n",
    "s = np.random.normal(mu, sigma, 10000)\n",
    "\n",
    "# Calculate the mean and variance of the data\n",
    "mean = np.mean(s)\n",
    "variance = np.var(s)\n",
    "\n",
    "# Print the results\n",
    "print(\"Mean:\", mean)\n",
    "print(\"Variance:\", variance)"
   ]
  },
  {
   "cell_type": "markdown",
   "id": "84a30494",
   "metadata": {},
   "source": [
    "## Plot the data"
   ]
  },
  {
   "cell_type": "code",
   "execution_count": 12,
   "id": "fa8033dc",
   "metadata": {},
   "outputs": [
    {
     "name": "stdout",
     "output_type": "stream",
     "text": [
      "Mean: -0.004594176400672822\n",
      "Variance: 0.00989534336975136\n"
     ]
    },
    {
     "data": {
      "image/png": "[encoded data removed]",
      "text/plain": [
       "<Figure size 640x480 with 1 Axes>"
      ]
     },
     "metadata": {},
     "output_type": "display_data"
    }
   ],
   "source": [
    "# Generate a sample of random data from a normal distribution\n",
    "mu, sigma = 0, 0.1 # mean and standard deviation\n",
    "s = np.random.normal(mu, sigma, 1000)\n",
    "\n",
    "# Calculate the mean and variance of the data\n",
    "mean = np.mean(s)\n",
    "variance = np.var(s)\n",
    "\n",
    "# Print the results\n",
    "print(\"Mean:\", mean)\n",
    "print(\"Variance:\", variance)\n",
    "\n",
    "# Plot the histogram of the data\n",
    "plt.hist(s, bins=50, density=True, alpha=0.5, color='b')\n",
    "\n",
    "# Plot the probability density function of the normal distribution with the same mean and variance\n",
    "x = np.linspace(mu - 3*sigma, mu + 3*sigma, 100)\n",
    "plt.plot(x, 1/(np.sqrt(2*np.pi*sigma**2))*np.exp(-(x-mu)**2/(2*sigma**2)), color='r')\n",
    "\n",
    "# Set the x and y labels and show the plot\n",
    "plt.xlabel('x')\n",
    "plt.ylabel('Probability density')\n",
    "plt.show()\n"
   ]
  },
  {
   "cell_type": "markdown",
   "id": "174f9e5f",
   "metadata": {},
   "source": [
    "## Poisson distribution"
   ]
  },
  {
   "cell_type": "code",
   "execution_count": 6,
   "id": "f570c6f9",
   "metadata": {},
   "outputs": [
    {
     "data": {
      "image/png": "[encoded data removed]",
      "text/plain": [
       "<Figure size 432x288 with 1 Axes>"
      ]
     },
     "metadata": {
      "needs_background": "light"
     },
     "output_type": "display_data"
    }
   ],
   "source": [
    "# Set the parameters for the Poisson distribution\n",
    "lam = 10  # lambda parameter\n",
    "\n",
    "# Generate a sample of random data from a Poisson distribution\n",
    "s = np.random.poisson(lam, 1000)\n",
    "\n",
    "# Plot the sample data as a histogram\n",
    "plt.hist(s, bins=20, density=True, alpha=0.6)\n",
    "plt.xlabel('x')\n",
    "plt.ylabel('Probability density')\n",
    "plt.title('Sample Data from Poisson Distribution (lambda=5)')\n",
    "plt.show()\n"
   ]
  },
  {
   "cell_type": "markdown",
   "id": "3707cd27",
   "metadata": {},
   "source": [
    "## Exponential distribution\n",
    "\n",
    "In this example, we first set the mean of the exponential distribution to `2`. We then generate a sample of `1000` random numbers from the distribution using NumPy's random.exponential function. We create a histogram of the data using Matplotlib's hist function, specifying the number of bins, density, and transparency."
   ]
  },
  {
   "cell_type": "code",
   "execution_count": 7,
   "id": "e7e287c0",
   "metadata": {},
   "outputs": [
    {
     "data": {
      "image/png": "[encoded data removed]",
      "text/plain": [
       "<Figure size 432x288 with 1 Axes>"
      ]
     },
     "metadata": {
      "needs_background": "light"
     },
     "output_type": "display_data"
    }
   ],
   "source": [
    "import numpy as np\n",
    "import matplotlib.pyplot as plt\n",
    "\n",
    "# Set the mean of the exponential distribution\n",
    "mean = 2\n",
    "# Generate a sample of 1000 random numbers from the exponential distribution\n",
    "data = np.random.exponential(mean, size=1000)\n",
    "# Create a histogram of the data\n",
    "plt.hist(data, bins=50, density=True, alpha=0.75)\n",
    "\n",
    "plt.xlabel('Values')\n",
    "plt.ylabel('Probability density')\n",
    "plt.title('Exponential Distribution')\n",
    "plt.show()\n"
   ]
  },
  {
   "cell_type": "markdown",
   "id": "46aa8d22",
   "metadata": {},
   "source": [
    "## Binomial distribution\n",
    "\n",
    "In this code, we set the number of trials `n` and the probability of success `p`. We then use `numpy`'s `random.binomial()` function to generate a binomial distribution with `1000` samples. Finally, we use matplotlib to plot a histogram of the binomial distribution"
   ]
  },
  {
   "cell_type": "code",
   "execution_count": 8,
   "id": "07153e22",
   "metadata": {},
   "outputs": [
    {
     "data": {
      "image/png": "[encoded data removed]",
      "text/plain": [
       "<Figure size 432x288 with 1 Axes>"
      ]
     },
     "metadata": {
      "needs_background": "light"
     },
     "output_type": "display_data"
    }
   ],
   "source": [
    "# Set the number of trials and probability of success\n",
    "n = 10\n",
    "p = 0.5\n",
    "\n",
    "# Generate a binomial distribution\n",
    "binomial_dist = np.random.binomial(n, p, 1000)\n",
    "\n",
    "# Plot the histogram of the binomial distribution\n",
    "plt.hist(binomial_dist, bins='auto')\n",
    "plt.title(\"Binomial Distribution\")\n",
    "plt.xlabel(\"Number of Successes\")\n",
    "plt.ylabel(\"Frequency\")\n",
    "plt.show()\n"
   ]
  },
  {
   "cell_type": "markdown",
   "id": "227bc5a8",
   "metadata": {},
   "source": [
    "### The end."
   ]
  }
 ],
 "metadata": {
  "kernelspec": {
   "display_name": "Python 3 (ipykernel)",
   "language": "python",
   "name": "python3"
  },
  "language_info": {
   "codemirror_mode": {
    "name": "ipython",
    "version": 3
   },
   "file_extension": ".py",
   "mimetype": "text/x-python",
   "name": "python",
   "nbconvert_exporter": "python",
   "pygments_lexer": "ipython3",
   "version": "3.12.4"
  }
 },
 "nbformat": 4,
 "nbformat_minor": 5
}
