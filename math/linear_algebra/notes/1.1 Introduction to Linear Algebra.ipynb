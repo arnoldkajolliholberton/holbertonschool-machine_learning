{
 "cells": [
  {
   "cell_type": "markdown",
   "id": "5d587d9c",
   "metadata": {},
   "source": [
    "<img src=\"../../../figs/holberton_logo.png\" alt=\"logo\" width=\"500\"/>\n",
    "\n",
    "# Linear Algebra\n",
    "\n",
    "Linear algebra plays a fundamental role in many areas of machine learning. It provides the mathematical framework to represent, analyze and solve problems involving large datasets and complex models. Some of the key applications of linear algebra in machine learning include:\n",
    "\n",
    "- Linear regression: where linear algebra provides the tools to estimate the model coefficients and make predictions.\n",
    "- Principal component analysis (PCA): where linear algebra is used to find the eigenvectors and eigenvalues of a matrix to perform dimensionality reduction and feature extraction.\n",
    "- Convolutional neural networks (CNNs): where linear algebra is used to perform operations such as matrix multiplication and convolutions to train and evaluate deep learning models.\n",
    "- Support vector machines (SVMs): where linear algebra is used to find the optimal separating hyperplane for classification tasks.\n",
    "\n",
    "Linear algebra provides the necessary tools and concepts to solve many of the fundamental problems in machine learning, and is therefore an essential area of study for anyone interested in the field.\n",
    "\n",
    "We start our dicussion with an introduction to vectors and matrices. Let's go.\n",
    "\n",
    "## Vectors\n",
    "\n",
    "A vector is a mathematical object that represents both magnitude and direction. In linear algebra, a vector is typically represented as a one-dimensional array of numbers. Vectors are conceptualized differently in various fields, such as:\n",
    "\n",
    "- *Physics*: a quantity having direction as well as magnitude (arrows in space)\n",
    "- *Computer Science*: ordered lists of numbers\n",
    "- *Math*: combination of both\n",
    "\n",
    "In Python, a vector can be created simply as a list"
   ]
  },
  {
   "cell_type": "code",
   "execution_count": 1,
   "id": "dab5bb9f",
   "metadata": {},
   "outputs": [
    {
     "name": "stdout",
     "output_type": "stream",
     "text": [
      "[1, 2, 3, 4, 5]\n"
     ]
    }
   ],
   "source": [
    "# Create a vector using a list\n",
    "my_vector = [1, 2, 3, 4, 5]\n",
    "\n",
    "# Print the vector\n",
    "print(my_vector)"
   ]
  },
  {
   "cell_type": "markdown",
   "id": "ff4da0fa",
   "metadata": {},
   "source": [
    "### Key operations in vectors\n",
    "\n",
    "Some of the key mathematical operations that can be performed on vectors include **addition**, **subtraction**, and **scalar multiplication**. Below is defined a function which adds two vectors. Similar functions can be defined for all the other basic mathematical operations"
   ]
  },
  {
   "cell_type": "code",
   "execution_count": 2,
   "id": "7c156aa7",
   "metadata": {},
   "outputs": [
    {
     "name": "stdout",
     "output_type": "stream",
     "text": [
      "[5, 7, 9]\n"
     ]
    }
   ],
   "source": [
    "# a function that adds two vectors vec1 and vec2\n",
    "\n",
    "def add_vectors(vec1, vec2):\n",
    "    if len(vec1) != len(vec2):\n",
    "        return None\n",
    "    \n",
    "    result = []\n",
    "    for i in range(len(vec1)):\n",
    "        result.append(vec1[i] + vec2[i])\n",
    "    \n",
    "    return result\n",
    "\n",
    "v1 = [1, 2, 3]\n",
    "v2 = [4, 5, 6]\n",
    "result = add_vectors(v1, v2)\n",
    "print(result)"
   ]
  },
  {
   "cell_type": "markdown",
   "id": "b7eee991",
   "metadata": {},
   "source": [
    "## The Matrix\n",
    "\n",
    "A matrix is a mathematical object that consists of a rectangular array of numbers. In linear algebra, a matrix is typically represented as a two-dimensional array.\n",
    "- A matrix is a compact but general way to represent any linear transform\n",
    "- Examples of linear transforms are rotations, scalings, projections\n",
    "- An `m` by `n` matrix is a function of two variables, the first of which has domain `{1, 2, ... m}` and the second of which has domain `{1, 2, ... n}`\n",
    "\n",
    "### Key notation\n",
    "\n",
    "- The **shape** of a matrix refers to the number of rows and columns in the matrix.\n",
    "- The **axis** refers to a specific dimension of an array.\n",
    "- A **slice** means taking elements from one given index to another given index\n",
    "\n",
    "To find the shape of a matrix, we can use the built-in `len()` function to get the length of the outer list (which gives the number of rows), and then get the length of one of the inner lists (which gives the number of columns)"
   ]
  },
  {
   "cell_type": "code",
   "execution_count": 3,
   "id": "d9f3bd94",
   "metadata": {},
   "outputs": [
    {
     "name": "stdout",
     "output_type": "stream",
     "text": [
      "(3, 3)\n"
     ]
    }
   ],
   "source": [
    "matrix = [[1, 2, 3], [4, 5, 6], [7, 8, 9]]\n",
    "\n",
    "# Get the number of rows\n",
    "num_rows = len(matrix)\n",
    "\n",
    "# Get the number of columns (assuming all rows have the same length)\n",
    "num_cols = len(matrix[0])\n",
    "\n",
    "# Print the shape\n",
    "print((num_rows, num_cols))  "
   ]
  },
  {
   "cell_type": "markdown",
   "id": "f98da033",
   "metadata": {},
   "source": [
    "To slice a matrix in Python, you can use nested loops to iterate over the rows and columns of the matrix and extract the desired elements. "
   ]
  },
  {
   "cell_type": "code",
   "execution_count": 3,
   "id": "f3c71346",
   "metadata": {},
   "outputs": [
    {
     "data": {
      "text/plain": [
       "1"
      ]
     },
     "execution_count": 3,
     "metadata": {},
     "output_type": "execute_result"
    }
   ],
   "source": [
    "the_matrix = [[1, 2, 3], [4, 5, 6], [6, 7, 8]]\n",
    "the_matrix[0][0]"
   ]
  },
  {
   "cell_type": "code",
   "execution_count": 4,
   "id": "5b739bb8",
   "metadata": {},
   "outputs": [
    {
     "name": "stdout",
     "output_type": "stream",
     "text": [
      "[[5, 6], [8, 9]]\n"
     ]
    }
   ],
   "source": [
    "matrix = [[1, 2, 3], [4, 5, 6], [7, 8, 9]]\n",
    "\n",
    "# Slice the matrix to get the 2x2 sub-matrix in the bottom-right corner\n",
    "sub_matrix = []\n",
    "for i in range(1, 3):\n",
    "    row = []\n",
    "    for j in range(1, 3):\n",
    "        row.append(matrix[i][j])\n",
    "    sub_matrix.append(row)\n",
    "\n",
    "# Print the sub-matrix\n",
    "print(sub_matrix)  "
   ]
  },
  {
   "cell_type": "markdown",
   "id": "888dd0fa",
   "metadata": {},
   "source": [
    "To find the axis of a matrix in Python, you can use the same approach as for finding the shape, since the number of rows corresponds to the first axis and the number of columns corresponds to the second axis."
   ]
  },
  {
   "cell_type": "code",
   "execution_count": 5,
   "id": "7e6e626e",
   "metadata": {},
   "outputs": [
    {
     "name": "stdout",
     "output_type": "stream",
     "text": [
      "(3, 3)\n"
     ]
    }
   ],
   "source": [
    "matrix = [[1, 2, 3], [4, 5, 6], [7, 8, 9]]\n",
    "\n",
    "# Get the number of rows (which corresponds to the first axis)\n",
    "num_rows = len(matrix)\n",
    "\n",
    "# Get the number of columns (which corresponds to the second axis)\n",
    "num_cols = len(matrix[0])\n",
    "\n",
    "# Print the axis of the matrix\n",
    "print((num_rows, num_cols))  "
   ]
  },
  {
   "cell_type": "markdown",
   "id": "bc0a0561",
   "metadata": {},
   "source": [
    "### Key operations\n",
    "\n",
    "Some of the key operations that can be performed on matrices include *addition, subtraction, scalar multiplication*, and *matrix multiplication*.\n",
    "Below a function that adds two matrices. Similar functions can be developed for the other basic mathematical operations\n"
   ]
  },
  {
   "cell_type": "code",
   "execution_count": 6,
   "id": "3bcf3d57",
   "metadata": {},
   "outputs": [
    {
     "name": "stdout",
     "output_type": "stream",
     "text": [
      "[[10, 10, 10], [10, 10, 10], [10, 10, 10]]\n"
     ]
    }
   ],
   "source": [
    "# a function that adds two matrices \n",
    "def add_matrices(mat1, mat2):\n",
    "    if len(mat1) != len(mat2) or len(mat1[0]) != len(mat2[0]):\n",
    "        return None  # matrices have different shapes\n",
    "    \n",
    "    result = []\n",
    "    for i in range(len(mat1)):\n",
    "        row = []\n",
    "        for j in range(len(mat1[0])):\n",
    "            row.append(mat1[i][j] + mat2[i][j])\n",
    "        result.append(row)\n",
    "    \n",
    "    return result\n",
    "\n",
    "mat1 = [[1,2,3], [4,5,6], [7,8,9]]\n",
    "mat2 = [[9,8,7], [6,5,4], [3,2,1]]\n",
    "\n",
    "print(add_matrices(mat1, mat2))"
   ]
  },
  {
   "cell_type": "markdown",
   "id": "54229b25",
   "metadata": {},
   "source": [
    "#### Matrix multiplication\n",
    "\n",
    "Matrix multiplication is a binary operation that takes a pair of matrices and produces another matrix. It is used to perform various transformations and calculations in linear algebra, such as rotating, scaling, and shearing objects in space.\n",
    "\n",
    "The product of two matrices `A` and `B` is denoted by `AB`. Matrix multiplication is defined such that the number of columns in matrix `A` must be equal to the number of rows in matrix `B`. The resulting matrix will have the same number of rows as `A` and the same number of columns as `B`."
   ]
  },
  {
   "cell_type": "code",
   "execution_count": 7,
   "id": "4b2fb777",
   "metadata": {},
   "outputs": [
    {
     "name": "stdout",
     "output_type": "stream",
     "text": [
      "[[30, 24, 18], [84, 69, 54], [138, 114, 90]]\n"
     ]
    }
   ],
   "source": [
    "def matrix_multiplication(mat1, mat2):\n",
    "    \"\"\"\n",
    "    Perform matrix multiplication of two matrices \n",
    "    \"\"\"\n",
    "    m1_rows, m1_cols = len(mat1), len(mat1[0])\n",
    "    m2_rows, m2_cols = len(mat2), len(mat2[0])\n",
    "\n",
    "    # Check if matrices are valid for multiplication\n",
    "    if m1_cols != m2_rows:\n",
    "        return None\n",
    "\n",
    "    # Initialize the result matrix with zeros\n",
    "    result = [[0 for _ in range(m2_cols)] for _ in range(m1_rows)]\n",
    "\n",
    "    # Compute the dot product of each row in the first matrix with each column in the second matrix\n",
    "    for i in range(m1_rows):\n",
    "        for j in range(m2_cols):\n",
    "            dot_product = 0\n",
    "            for k in range(m1_cols):\n",
    "                dot_product += mat1[i][k] * mat2[k][j]\n",
    "            result[i][j] = dot_product\n",
    "\n",
    "    return result\n",
    "\n",
    "mat1 = [[1,2,3], [4,5,6], [7,8,9]]\n",
    "mat2 = [[9,8,7], [6,5,4], [3,2,1]]\n",
    "print(matrix_multiplication(mat1, mat2))"
   ]
  },
  {
   "cell_type": "markdown",
   "id": "1d9e779f",
   "metadata": {},
   "source": [
    "The function takes two matrices as input and returns their product if they are valid for multiplication, and returns `None` otherwise. It first checks if the number of columns in the first matrix matches the number of rows in the second matrix, which is a requirement for matrix multiplication. Then, it initializes a result matrix with zeros, and computes the dot product of each row in the first matrix with each column in the second matrix. Finally, it populates the result matrix with the computed dot products and returns it."
   ]
  },
  {
   "cell_type": "markdown",
   "id": "4c4902db",
   "metadata": {},
   "source": [
    "## NumPy\n",
    "\n",
    "NumPy is a Python library used for working with large multi-dimensional arrays and matrices, along with a large collection of high-level mathematical functions to operate on these arrays. The library can be imported as `import numpy as np`. Below we provide how most of the operations defined above can be written by taking advantage of NumPy's built-in functions"
   ]
  },
  {
   "cell_type": "code",
   "execution_count": 8,
   "id": "3386fdd9",
   "metadata": {},
   "outputs": [],
   "source": [
    "import numpy as np"
   ]
  },
  {
   "cell_type": "markdown",
   "id": "2c439386",
   "metadata": {},
   "source": [
    "### Vectors in NumPy\n",
    "\n",
    "Below we create a vector and then perform the basic mathematical operations with vectors"
   ]
  },
  {
   "cell_type": "code",
   "execution_count": 9,
   "id": "3024f26e",
   "metadata": {},
   "outputs": [
    {
     "name": "stdout",
     "output_type": "stream",
     "text": [
      "[1 2 3]\n"
     ]
    }
   ],
   "source": [
    "# create a vector using NumPy\n",
    "vector = np.array([1, 2, 3])\n",
    "print(vector)"
   ]
  },
  {
   "cell_type": "code",
   "execution_count": 10,
   "id": "7d7922e9",
   "metadata": {},
   "outputs": [
    {
     "name": "stdout",
     "output_type": "stream",
     "text": [
      "[5 7 9]\n",
      "[-3 -3 -3]\n",
      "[2 4 6]\n"
     ]
    }
   ],
   "source": [
    "# create two vectors using NumPy\n",
    "v1 = np.array([1, 2, 3])\n",
    "v2 = np.array([4, 5, 6])\n",
    "\n",
    "# add the two vectors\n",
    "result = v1 + v2\n",
    "print(result)\n",
    "\n",
    "# subtract the two vectors\n",
    "result = v1 - v2\n",
    "print(result)\n",
    "\n",
    "# multiply a vector by a scalar\n",
    "result = 2 * v1\n",
    "print(result)\n"
   ]
  },
  {
   "cell_type": "markdown",
   "id": "9f31e5f6",
   "metadata": {},
   "source": [
    "### Matrices in NumPy\n",
    "\n",
    "Below we create a matrix and then perform the basic mathematical operations with matrices"
   ]
  },
  {
   "cell_type": "code",
   "execution_count": 11,
   "id": "95e9148b",
   "metadata": {},
   "outputs": [
    {
     "name": "stdout",
     "output_type": "stream",
     "text": [
      "[[1 2 3]\n",
      " [4 5 6]\n",
      " [7 8 9]]\n"
     ]
    }
   ],
   "source": [
    "# create a matrix using NumPy\n",
    "matrix = np.array([[1, 2, 3], [4, 5, 6], [7, 8, 9]])\n",
    "print(matrix)"
   ]
  },
  {
   "cell_type": "code",
   "execution_count": 12,
   "id": "f44c2565",
   "metadata": {},
   "outputs": [
    {
     "name": "stdout",
     "output_type": "stream",
     "text": [
      "Add matrices\n",
      " [[ 6  8]\n",
      " [10 12]] \n",
      "\n",
      "Subtract matrices\n",
      " [[-4 -4]\n",
      " [-4 -4]] \n",
      "\n",
      "Multiply matrix by scalar \n",
      " [[2 4]\n",
      " [6 8]] \n",
      "\n",
      "Multiply matrices\n",
      " [[19 22]\n",
      " [43 50]]\n"
     ]
    }
   ],
   "source": [
    "# create two matrices using NumPy\n",
    "m1 = np.array([[1, 2], [3, 4]])\n",
    "m2 = np.array([[5, 6], [7, 8]])\n",
    "\n",
    "# add the two matrices\n",
    "result = m1 + m2\n",
    "print(\"Add matrices\\n\", result, \"\\n\")\n",
    "\n",
    "# subtract the two matrices\n",
    "result = m1 - m2\n",
    "print(\"Subtract matrices\\n\", result, \"\\n\")\n",
    "\n",
    "# multiply a matrix by a scalar\n",
    "result = 2 * m1\n",
    "print(\"Multiply matrix by scalar \\n\", result, \"\\n\")\n",
    "\n",
    "# multiply two matrices\n",
    "result = np.dot(m1, m2)\n",
    "print(\"Multiply matrices\\n\", result)\n"
   ]
  },
  {
   "cell_type": "markdown",
   "id": "eaefe4bb",
   "metadata": {},
   "source": [
    "### Shape, axis, slice"
   ]
  },
  {
   "cell_type": "code",
   "execution_count": 13,
   "id": "b6adb060",
   "metadata": {},
   "outputs": [
    {
     "name": "stdout",
     "output_type": "stream",
     "text": [
      "(3, 3)\n"
     ]
    }
   ],
   "source": [
    "# get the shape of the matrix\n",
    "matrix = np.array([[1, 2, 3], [4, 5, 6], [7, 8, 9]])\n",
    "shape = matrix.shape\n",
    "print(shape)"
   ]
  },
  {
   "cell_type": "code",
   "execution_count": 14,
   "id": "365d2d87",
   "metadata": {},
   "outputs": [
    {
     "name": "stdout",
     "output_type": "stream",
     "text": [
      "[1 2 3]\n",
      "[3 4 5]\n",
      "[2 3 4]\n"
     ]
    }
   ],
   "source": [
    "v = np.array([1, 2, 3, 4, 5])\n",
    "\n",
    "# Slice the first three elements of the vector\n",
    "v_first_three = v[:3]\n",
    "print(v_first_three)\n",
    "\n",
    "# Slice the last three elements of the vector\n",
    "v_last_three = v[-3:]\n",
    "print(v_last_three)\n",
    "\n",
    "# Slice middle three elements \n",
    "v_middle_three = v[1:4]\n",
    "print(v_middle_three)\n"
   ]
  },
  {
   "cell_type": "code",
   "execution_count": 15,
   "id": "b97600e8",
   "metadata": {},
   "outputs": [
    {
     "name": "stdout",
     "output_type": "stream",
     "text": [
      "[1 2 3]\n",
      "[2 5 8]\n",
      "[[4 5]\n",
      " [7 8]]\n"
     ]
    }
   ],
   "source": [
    "m = np.array([[1, 2, 3], [4, 5, 6], [7, 8, 9]])\n",
    "\n",
    "# Slice the first row of the matrix\n",
    "m_sliced = m[0, :]\n",
    "\n",
    "print(m_sliced)  # [1 2 3]\n",
    "\n",
    "# Slice the second column of the matrix\n",
    "m_sliced = m[:, 1]\n",
    "\n",
    "print(m_sliced)  # [2 5 8]\n",
    "\n",
    "# Slice a 2x2 submatrix of the matrix\n",
    "m_sliced = m[1:, :2]\n",
    "\n",
    "print(m_sliced)  # [[4 5], [7 8]]"
   ]
  },
  {
   "cell_type": "markdown",
   "id": "73627123",
   "metadata": {},
   "source": [
    "### The end. "
   ]
  }
 ],
 "metadata": {
  "kernelspec": {
   "display_name": "Python 3 (ipykernel)",
   "language": "python",
   "name": "python3"
  },
  "language_info": {
   "codemirror_mode": {
    "name": "ipython",
    "version": 3
   },
   "file_extension": ".py",
   "mimetype": "text/x-python",
   "name": "python",
   "nbconvert_exporter": "python",
   "pygments_lexer": "ipython3",
   "version": "3.12.4"
  }
 },
 "nbformat": 4,
 "nbformat_minor": 5
}
