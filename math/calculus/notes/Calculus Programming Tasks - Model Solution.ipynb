{
 "cells": [
  {
   "cell_type": "markdown",
   "id": "f80f69c2",
   "metadata": {},
   "source": [
    "<img src=\"../holberton_logo.png\" alt=\"logo\" width=\"500\"/>\n",
    "\n",
    "\n",
    "# Calculus\n",
    "\n",
    "This notebook provides a model solution to the tasks of project `Calculus` focusing on **mathematical series, derivatives and integrals**. At the end of this project, you should know\n",
    "\n",
    "- Summation and Product notation\n",
    "- What is a series?\n",
    "- Common series\n",
    "- What is a derivative?\n",
    "- What is the product rule?\n",
    "- What is the chain rule?\n",
    "- Common derivative rules\n",
    "- What is a partial derivative?\n",
    "- What is an indefinite integral?\n",
    "- What is a definite integral?\n",
    "- What is a double integral?\n",
    "\n",
    "## Model Solution - Programming Tasks"
   ]
  },
  {
   "cell_type": "markdown",
   "id": "76b43c69",
   "metadata": {},
   "source": [
    "#### Task 9\n",
    "\n",
    "Write a function `def summation_i_squared(n)`: that calculates \n",
    "\n",
    "$$\n",
    "\\sum_{i=1}^{n} i^2:\n",
    "$$\n",
    "\n",
    "- `n` is the stopping condition\n",
    "- Return the integer value of the `sum`\n",
    "- If `n` is not a valid number, return `None`\n",
    "- You are not allowed to use any loops"
   ]
  },
  {
   "cell_type": "code",
   "execution_count": 1,
   "id": "c7813355",
   "metadata": {},
   "outputs": [],
   "source": [
    "def summation_i_squared(n):\n",
    "    \"\"\"\n",
    "    calculates summation of i^2 from i=1 to n\n",
    "    \"\"\"\n",
    "    if type(n) is not int or n < 1:\n",
    "        return None\n",
    "    sigma_sum = (n * (n + 1) * ((2 * n) + 1)) / 6\n",
    "    return int(sigma_sum)"
   ]
  },
  {
   "cell_type": "markdown",
   "id": "3764e9d7",
   "metadata": {},
   "source": [
    "### Task 10\n",
    "\n",
    "Write a function def `poly_derivative(poly)`: that calculates the derivative of a polynomial:\n",
    "\n",
    "- poly is a list of coefficients representing a polynomial\n",
    "- the index of the list represents the power of `x` that the coefficient belongs to\n",
    "- Example: if $f(x) = x^3 + 3x +5$ poly is equal to `[5, 3, 0, 1]`\n",
    "- If poly is not valid, return `None`\n",
    "- If the derivative is `0`, `return [0]`\n",
    "- Return a new list of coefficients representing the derivative of the polynomial"
   ]
  },
  {
   "cell_type": "code",
   "execution_count": 7,
   "id": "64eede8d",
   "metadata": {},
   "outputs": [],
   "source": [
    "def poly_derivative(poly):\n",
    "    \"\"\"\n",
    "    calculates the derivative of the given polynomial\n",
    "    \"\"\"\n",
    "    if type(poly) is not list or len(poly) < 1:\n",
    "        return None\n",
    "    for coefficient in poly:\n",
    "        if type(coefficient) is not int \n",
    "        and type(coefficient) is not float:\n",
    "            return None\n",
    "    for power, coefficient in enumerate(poly):\n",
    "        if power == 0:\n",
    "            derivative = [0]\n",
    "            continue\n",
    "        if power == 1:\n",
    "            derivative = []\n",
    "        derivative.append(power * coefficient)\n",
    "    while derivative[-1] == 0 and len(derivative) > 1:\n",
    "        derivative = derivative[:-1]\n",
    "    return derivative"
   ]
  },
  {
   "cell_type": "markdown",
   "id": "74581e35",
   "metadata": {},
   "source": [
    "The function `poly_derivative` takes a single argument `poly`, which should be a list of coefficients of the polynomial in descending order of power. For example, if the polynomial is $3x^2 + 2x + 1$, then the input list should be `[3, 2, 1]`.\n",
    "\n",
    "- The first few lines of the function check whether the input `poly` is valid. If `poly` is not a list or is empty, then `None` is returned. If any of the coefficients are not integers or floats, then `None` is also returned.\n",
    "\n",
    "\n",
    "- The `for` loop that follows iterates over each coefficient of the input poly. \n",
    "    - If the coefficient is the constant term (i.e., the first term with power `0`), then it adds a `0` to the derivative list.\n",
    "    - If the coefficient is the linear term (i.e., the second term with power `1`), then it sets derivative to an empty list, since the constant term's derivative is `0`. \n",
    "    \n",
    "- For all other coefficients, it calculates the derivative using the power rule of differentiation, which is simply the coefficient multiplied by the power. For example, if the current coefficient is `3` and its power is `2`, then the derivative of that term is `6x`.\n",
    "\n",
    "\n",
    "- After the for loop, the function removes any trailing zeros from the derivative list. This is because the derivative of a polynomial may have fewer terms than the original polynomial if some of the higher-order terms had a zero coefficient.\n",
    "\n",
    "\n",
    "- Finally, the function returns the derivative list, which represents the coefficients of the derivative polynomial in descending order of power.\n",
    "\n",
    "\n",
    "\n"
   ]
  },
  {
   "cell_type": "code",
   "execution_count": 8,
   "id": "07a988d6",
   "metadata": {},
   "outputs": [
    {
     "name": "stdout",
     "output_type": "stream",
     "text": [
      "[3, 0, 3]\n",
      "[2, 0, 9]\n"
     ]
    }
   ],
   "source": [
    "poly = [5, 3, 0, 1]\n",
    "print(poly_derivative(poly))\n",
    "\n",
    "poly = [0, 2, 0, 3, 0, 0, 0]\n",
    "derivative = poly_derivative(poly)\n",
    "print(derivative)"
   ]
  },
  {
   "cell_type": "markdown",
   "id": "bc652384",
   "metadata": {},
   "source": [
    "#### Task 17\n",
    "\n",
    "Write a function `def poly_integral(poly, C=0)`: that calculates the integral of a polynomial:\n",
    "\n",
    "- poly is a list of coefficients representing a polynomial\n",
    "- the index of the list represents the power of `x` that the coefficient belongs to\n",
    "- Example: if $f(x) = x^3 + 3x +5$, poly is equal to `[5, 3, 0, 1]`\n",
    "- `C` is an integer representing the integration constant\n",
    "- If a coefficient is a whole number, it should be represented as an integer\n",
    "- If poly or `C` are not valid, return `None`\n",
    "- Return a new list of coefficients representing the integral of the polynomial\n",
    "- The returned list should be as small as possible"
   ]
  },
  {
   "cell_type": "code",
   "execution_count": 6,
   "id": "6537df6e",
   "metadata": {},
   "outputs": [],
   "source": [
    "def poly_integral(poly, C=0):\n",
    "    if not isinstance(C, int) or not isinstance(poly, list) \n",
    "    or len(poly) == 0:\n",
    "        return None\n",
    "    integral = [C]\n",
    "    for power, coefficient in enumerate(poly):\n",
    "        if (coefficient % (power + 1)) == 0:\n",
    "            new_coefficient = coefficient // (power + 1)\n",
    "        else:\n",
    "            new_coefficient = coefficient / (power + 1)\n",
    "        integral.append(new_coefficient)\n",
    "    while integral[-1] == 0 and len(integral) > 1:\n",
    "        integral = integral[:-1]\n",
    "    return integral"
   ]
  },
  {
   "cell_type": "markdown",
   "id": "ac48127f",
   "metadata": {},
   "source": [
    "This function calculates the indefinite integral of a given polynomial by adding a constant of integration `C`. The function first checks if the input arguments are of the correct types, i.e., the constant of integration is an integer and the polynomial is a non-empty list. If the input is invalid, the function returns `None`.\n",
    "\n",
    "Next, the function initializes a list called \"integral\" with the constant of integration `C`. It then iterates over each term in the polynomial, calculating the integral of that term with respect to `x`. The integral of $x^n$ with respect to $x$ is $\\frac{x^{(n+1)}}{(n+1)}$. The function calculates this term and appends it to the \"integral\" list.\n",
    "\n",
    "After all terms have been integrated, the function checks if the last term in the \"integral\" list is zero and removes it if the list has more than one element. This is done to remove any trailing zeros that may have been added during the integration process.\n",
    "\n",
    "Finally, the function returns the list of integrated polynomial coefficients."
   ]
  },
  {
   "cell_type": "code",
   "execution_count": 7,
   "id": "10b9dd8b",
   "metadata": {},
   "outputs": [
    {
     "name": "stdout",
     "output_type": "stream",
     "text": [
      "[0, 5, 1.5, 0, 0.25]\n"
     ]
    }
   ],
   "source": [
    "poly = [5, 3, 0, 1]\n",
    "print(poly_integral(poly))"
   ]
  },
  {
   "cell_type": "markdown",
   "id": "3057aee2",
   "metadata": {},
   "source": [
    "### The end"
   ]
  }
 ],
 "metadata": {
  "kernelspec": {
   "display_name": "Python 3 (ipykernel)",
   "language": "python",
   "name": "python3"
  },
  "language_info": {
   "codemirror_mode": {
    "name": "ipython",
    "version": 3
   },
   "file_extension": ".py",
   "mimetype": "text/x-python",
   "name": "python",
   "nbconvert_exporter": "python",
   "pygments_lexer": "ipython3",
   "version": "3.12.4"
  }
 },
 "nbformat": 4,
 "nbformat_minor": 5
}
