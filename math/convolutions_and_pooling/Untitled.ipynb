{
 "cells": [
  {
   "cell_type": "code",
   "execution_count": 1,
   "id": "03a146c4-ea3e-4c9b-a9fc-5ae09b521bf7",
   "metadata": {},
   "outputs": [],
   "source": [
    "#!/usr/bin/env python3\n",
    "\"\"\"\n",
    "    Valid Convolution\n",
    "\"\"\"\n",
    "\n",
    "import numpy as np\n",
    "\n",
    "\n",
    "def convolve_grayscale_valid(images, kernel):\n",
    "    \"\"\"\n",
    "        Function that performs a valid convolution on grayscale images\n",
    "\n",
    "        :param images: ndarray, shape(m, h, w), multiple grayscale images\n",
    "        :param kernel: ndarray, shape(kh,kw), kernel for convolution\n",
    "\n",
    "        :return: ndarray containing convolved images\n",
    "    \"\"\"\n",
    "    # size images and kernel\n",
    "    m, h, w = images.shape\n",
    "    kh, kw = kernel.shape\n",
    "\n",
    "    # output size\n",
    "    output_height = h - kh + 1\n",
    "    output_width = w - kw + 1\n",
    "\n",
    "    # initialize output\n",
    "    convolved_images = np.zeros((m, output_height, output_width))\n",
    "\n",
    "    # convolution\n",
    "    for i in range(output_height):\n",
    "        for j in range(output_width):\n",
    "            # extract region from each image\n",
    "            image_zone = images[:, i:i+kh, j:j+kw]\n",
    "\n",
    "            # element wize multiplication\n",
    "            convolved_images[:, i, j] = np.sum(image_zone * kernel,\n",
    "                                               axis=(1, 2))\n",
    "\n",
    "    return convolved_images\n"
   ]
  },
  {
   "cell_type": "code",
   "execution_count": null,
   "id": "86d6bd5e-2061-46c8-b4e2-d088bf2e566a",
   "metadata": {},
   "outputs": [],
   "source": [
    "#!/usr/bin/env python3\n",
    "\n",
    "import matplotlib.pyplot as plt\n",
    "import numpy as np\n",
    "\n",
    "if __name__ == '__main__':\n",
    "\n",
    "    dataset = np.load('MNIST.npz')\n",
    "    images = dataset['X_train']\n",
    "    print(images.shape)\n",
    "    kernel = np.array([[1 ,0, -1], [1, 0, -1], [1, 0, -1]])\n",
    "    images_conv = convolve_grayscale_valid(images, kernel)\n",
    "    print(images_conv.shape)\n",
    "\n",
    "    plt.imshow(images[0], cmap='gray')\n",
    "    plt.show()\n",
    "    plt.imshow(images_conv[0], cmap='gray')\n",
    "    plt.show()"
   ]
  }
 ],
 "metadata": {
  "kernelspec": {
   "display_name": "Python 3 (ipykernel)",
   "language": "python",
   "name": "python3"
  },
  "language_info": {
   "codemirror_mode": {
    "name": "ipython",
    "version": 3
   },
   "file_extension": ".py",
   "mimetype": "text/x-python",
   "name": "python",
   "nbconvert_exporter": "python",
   "pygments_lexer": "ipython3",
   "version": "3.12.4"
  }
 },
 "nbformat": 4,
 "nbformat_minor": 5
}
